{
  "cells": [
    {
      "cell_type": "code",
      "source": [
        "import pandas as pd\n",
        "import numpy as np\n",
        "import os\n",
        "import re\n",
        "import matplotlib.pyplot as plt\n",
        "import matplotlib.image as mpimg\n",
        "import seaborn as sns\n",
        "import gc\n",
        "import random\n",
        "from sklearn.model_selection import train_test_split\n",
        "import turicreate as tc\n",
        "from tqdm.notebook import tqdm\n"
      ],
      "metadata": {
        "id": "vV-9WhFI5W7o"
      },
      "id": "vV-9WhFI5W7o",
      "execution_count": 2,
      "outputs": []
    },
    {
      "cell_type": "code",
      "source": [
        "article_subset_df=pd.read_csv('articles_subset.csv')\n",
        "customers_df=pd.read_csv('customers_subset.csv')\n",
        "transaction_subset_df=pd.read_csv('transaction_subset.csv')\n"
      ],
      "metadata": {
        "id": "abuwSPEH56xN"
      },
      "id": "abuwSPEH56xN",
      "execution_count": 102,
      "outputs": []
    },
    {
      "cell_type": "code",
      "source": [],
      "metadata": {
        "colab": {
          "base_uri": "https://localhost:8080/",
          "height": 206
        },
        "id": "VEP1PIDpbjiw",
        "outputId": "b76b31b3-e5d4-47c9-8cfb-613024c01760"
      },
      "id": "VEP1PIDpbjiw",
      "execution_count": 104,
      "outputs": [
        {
          "output_type": "execute_result",
          "data": {
            "text/plain": [
              "   Unnamed: 0       t_dat                                        customer_id  \\\n",
              "0         114  2018-09-20  0091c0e943c92167ea78f6ac180636be4098b06c1a066c...   \n",
              "1         115  2018-09-20  00923f88cda50cbea4c5ceb2bd3467c620a9d74cb7da95...   \n",
              "2         116  2018-09-20  00923f88cda50cbea4c5ceb2bd3467c620a9d74cb7da95...   \n",
              "3         117  2018-09-20  00923f88cda50cbea4c5ceb2bd3467c620a9d74cb7da95...   \n",
              "4         135  2018-09-20  00b5b1446be091d4913765cf2cc01edc7e0d3820e1b8a4...   \n",
              "\n",
              "   article_id     price  sales_channel_id  \n",
              "0   677341001  0.080492                 2  \n",
              "1   564786020  0.019814                 1  \n",
              "2   655347002  0.015237                 1  \n",
              "3   655347007  0.015237                 1  \n",
              "4   627300001  0.024136                 2  "
            ],
            "text/html": [
              "\n",
              "  <div id=\"df-269acbc5-f332-4a70-b0ab-6a086188f8db\">\n",
              "    <div class=\"colab-df-container\">\n",
              "      <div>\n",
              "<style scoped>\n",
              "    .dataframe tbody tr th:only-of-type {\n",
              "        vertical-align: middle;\n",
              "    }\n",
              "\n",
              "    .dataframe tbody tr th {\n",
              "        vertical-align: top;\n",
              "    }\n",
              "\n",
              "    .dataframe thead th {\n",
              "        text-align: right;\n",
              "    }\n",
              "</style>\n",
              "<table border=\"1\" class=\"dataframe\">\n",
              "  <thead>\n",
              "    <tr style=\"text-align: right;\">\n",
              "      <th></th>\n",
              "      <th>Unnamed: 0</th>\n",
              "      <th>t_dat</th>\n",
              "      <th>customer_id</th>\n",
              "      <th>article_id</th>\n",
              "      <th>price</th>\n",
              "      <th>sales_channel_id</th>\n",
              "    </tr>\n",
              "  </thead>\n",
              "  <tbody>\n",
              "    <tr>\n",
              "      <th>0</th>\n",
              "      <td>114</td>\n",
              "      <td>2018-09-20</td>\n",
              "      <td>0091c0e943c92167ea78f6ac180636be4098b06c1a066c...</td>\n",
              "      <td>677341001</td>\n",
              "      <td>0.080492</td>\n",
              "      <td>2</td>\n",
              "    </tr>\n",
              "    <tr>\n",
              "      <th>1</th>\n",
              "      <td>115</td>\n",
              "      <td>2018-09-20</td>\n",
              "      <td>00923f88cda50cbea4c5ceb2bd3467c620a9d74cb7da95...</td>\n",
              "      <td>564786020</td>\n",
              "      <td>0.019814</td>\n",
              "      <td>1</td>\n",
              "    </tr>\n",
              "    <tr>\n",
              "      <th>2</th>\n",
              "      <td>116</td>\n",
              "      <td>2018-09-20</td>\n",
              "      <td>00923f88cda50cbea4c5ceb2bd3467c620a9d74cb7da95...</td>\n",
              "      <td>655347002</td>\n",
              "      <td>0.015237</td>\n",
              "      <td>1</td>\n",
              "    </tr>\n",
              "    <tr>\n",
              "      <th>3</th>\n",
              "      <td>117</td>\n",
              "      <td>2018-09-20</td>\n",
              "      <td>00923f88cda50cbea4c5ceb2bd3467c620a9d74cb7da95...</td>\n",
              "      <td>655347007</td>\n",
              "      <td>0.015237</td>\n",
              "      <td>1</td>\n",
              "    </tr>\n",
              "    <tr>\n",
              "      <th>4</th>\n",
              "      <td>135</td>\n",
              "      <td>2018-09-20</td>\n",
              "      <td>00b5b1446be091d4913765cf2cc01edc7e0d3820e1b8a4...</td>\n",
              "      <td>627300001</td>\n",
              "      <td>0.024136</td>\n",
              "      <td>2</td>\n",
              "    </tr>\n",
              "  </tbody>\n",
              "</table>\n",
              "</div>\n",
              "      <button class=\"colab-df-convert\" onclick=\"convertToInteractive('df-269acbc5-f332-4a70-b0ab-6a086188f8db')\"\n",
              "              title=\"Convert this dataframe to an interactive table.\"\n",
              "              style=\"display:none;\">\n",
              "        \n",
              "  <svg xmlns=\"http://www.w3.org/2000/svg\" height=\"24px\"viewBox=\"0 0 24 24\"\n",
              "       width=\"24px\">\n",
              "    <path d=\"M0 0h24v24H0V0z\" fill=\"none\"/>\n",
              "    <path d=\"M18.56 5.44l.94 2.06.94-2.06 2.06-.94-2.06-.94-.94-2.06-.94 2.06-2.06.94zm-11 1L8.5 8.5l.94-2.06 2.06-.94-2.06-.94L8.5 2.5l-.94 2.06-2.06.94zm10 10l.94 2.06.94-2.06 2.06-.94-2.06-.94-.94-2.06-.94 2.06-2.06.94z\"/><path d=\"M17.41 7.96l-1.37-1.37c-.4-.4-.92-.59-1.43-.59-.52 0-1.04.2-1.43.59L10.3 9.45l-7.72 7.72c-.78.78-.78 2.05 0 2.83L4 21.41c.39.39.9.59 1.41.59.51 0 1.02-.2 1.41-.59l7.78-7.78 2.81-2.81c.8-.78.8-2.07 0-2.86zM5.41 20L4 18.59l7.72-7.72 1.47 1.35L5.41 20z\"/>\n",
              "  </svg>\n",
              "      </button>\n",
              "      \n",
              "  <style>\n",
              "    .colab-df-container {\n",
              "      display:flex;\n",
              "      flex-wrap:wrap;\n",
              "      gap: 12px;\n",
              "    }\n",
              "\n",
              "    .colab-df-convert {\n",
              "      background-color: #E8F0FE;\n",
              "      border: none;\n",
              "      border-radius: 50%;\n",
              "      cursor: pointer;\n",
              "      display: none;\n",
              "      fill: #1967D2;\n",
              "      height: 32px;\n",
              "      padding: 0 0 0 0;\n",
              "      width: 32px;\n",
              "    }\n",
              "\n",
              "    .colab-df-convert:hover {\n",
              "      background-color: #E2EBFA;\n",
              "      box-shadow: 0px 1px 2px rgba(60, 64, 67, 0.3), 0px 1px 3px 1px rgba(60, 64, 67, 0.15);\n",
              "      fill: #174EA6;\n",
              "    }\n",
              "\n",
              "    [theme=dark] .colab-df-convert {\n",
              "      background-color: #3B4455;\n",
              "      fill: #D2E3FC;\n",
              "    }\n",
              "\n",
              "    [theme=dark] .colab-df-convert:hover {\n",
              "      background-color: #434B5C;\n",
              "      box-shadow: 0px 1px 3px 1px rgba(0, 0, 0, 0.15);\n",
              "      filter: drop-shadow(0px 1px 2px rgba(0, 0, 0, 0.3));\n",
              "      fill: #FFFFFF;\n",
              "    }\n",
              "  </style>\n",
              "\n",
              "      <script>\n",
              "        const buttonEl =\n",
              "          document.querySelector('#df-269acbc5-f332-4a70-b0ab-6a086188f8db button.colab-df-convert');\n",
              "        buttonEl.style.display =\n",
              "          google.colab.kernel.accessAllowed ? 'block' : 'none';\n",
              "\n",
              "        async function convertToInteractive(key) {\n",
              "          const element = document.querySelector('#df-269acbc5-f332-4a70-b0ab-6a086188f8db');\n",
              "          const dataTable =\n",
              "            await google.colab.kernel.invokeFunction('convertToInteractive',\n",
              "                                                     [key], {});\n",
              "          if (!dataTable) return;\n",
              "\n",
              "          const docLinkHtml = 'Like what you see? Visit the ' +\n",
              "            '<a target=\"_blank\" href=https://colab.research.google.com/notebooks/data_table.ipynb>data table notebook</a>'\n",
              "            + ' to learn more about interactive tables.';\n",
              "          element.innerHTML = '';\n",
              "          dataTable['output_type'] = 'display_data';\n",
              "          await google.colab.output.renderOutput(dataTable, element);\n",
              "          const docLink = document.createElement('div');\n",
              "          docLink.innerHTML = docLinkHtml;\n",
              "          element.appendChild(docLink);\n",
              "        }\n",
              "      </script>\n",
              "    </div>\n",
              "  </div>\n",
              "  "
            ]
          },
          "metadata": {},
          "execution_count": 104
        }
      ]
    },
    {
      "cell_type": "code",
      "source": [
        "def create_predictions_format(data):\n",
        "    data[\"article_id\"] = data[\"article_id\"]#.apply(lambda x: adjust_id(x))\n",
        "    all_preds = data.groupby(\"customer_id\")[\"article_id\"].unique().to_dict()\n",
        "    data[\"preds\"] = data[\"customer_id\"].map(all_preds)\n",
        "    data[\"preds\"] = data[\"preds\"].apply(lambda x: \" \".join([str(y) for y in x]))\n",
        "    data = data.groupby(\"customer_id\")[\"preds\"].first().reset_index()\n",
        "    return data\n",
        "def get_frequent_purchases(transactions, n=50):\n",
        "    temp = transactions.groupby([\"customer_id\", \"article_id\"])[\"t_dat\"].count().reset_index()\n",
        "    temp.columns = [\"customer_id\", \"article_id\", \"count\"]\n",
        "    temp2 = transactions.groupby([\"customer_id\"])[\"t_dat\"].count().reset_index()\n",
        "    temp2.columns = [\"customer_id\", \"full_count\"]\n",
        "    temp = temp.merge(temp2, on=\"customer_id\", how=\"left\")\n",
        "    temp[\"perc\"] = (temp[\"count\"] / temp[\"full_count\"])*100\n",
        "    temp = temp[temp[\"perc\"] >= n].reset_index(drop=True)\n",
        "    temp = create_predictions_format(temp)\n",
        "    return temp"
      ],
      "metadata": {
        "id": "sCy84SP79Bjh"
      },
      "id": "sCy84SP79Bjh",
      "execution_count": 106,
      "outputs": []
    },
    {
      "cell_type": "code",
      "source": [
        "transactions=pd.DataFrame()\n",
        "transactions['customer_id'] = transaction_subset_df['customer_id'].str[-16:]\n",
        "transactions['t_dat'] = pd.to_datetime(transaction_subset_df['t_dat'])\n",
        "transactions = transaction_subset_df[['t_dat','customer_id','article_id']]"
      ],
      "metadata": {
        "id": "NoWYU9Eo9Efx"
      },
      "id": "NoWYU9Eo9Efx",
      "execution_count": 107,
      "outputs": []
    },
    {
      "cell_type": "code",
      "source": [
        "TOP_CUSTOMERS = 300000\n",
        "TOP_N = 200"
      ],
      "metadata": {
        "id": "cvGVCWg09GMR"
      },
      "id": "cvGVCWg09GMR",
      "execution_count": 108,
      "outputs": []
    },
    {
      "cell_type": "code",
      "source": [
        "most_frequent_articles = transactions[\"article_id\"].value_counts().reset_index()\n",
        "most_frequent_articles.columns = [\"article_id\", \"count\"]\n",
        "print(\"Unique IDs from subset Transactions:\", len(most_frequent_articles))\n",
        "print(\"Selected Unique IDs:\", TOP_N)\n",
        "most_frequent_articles = np.asarray(most_frequent_articles.head(TOP_N)[\"article_id\"])\n",
        "transactions = transactions[transactions[\"article_id\"].isin(most_frequent_articles)].reset_index(drop=True)"
      ],
      "metadata": {
        "colab": {
          "base_uri": "https://localhost:8080/"
        },
        "id": "eDWmC8t_9J2C",
        "outputId": "aa7bf981-b506-4b8b-8fa7-d5dae5489cf2"
      },
      "id": "eDWmC8t_9J2C",
      "execution_count": 109,
      "outputs": [
        {
          "output_type": "stream",
          "name": "stdout",
          "text": [
            "Unique IDs from subset Transactions: 86307\n",
            "Selected Unique IDs: 200\n"
          ]
        }
      ]
    },
    {
      "cell_type": "code",
      "source": [
        "customers_top_trans = list(transactions[\"customer_id\"].value_counts().reset_index().head(TOP_CUSTOMERS)[\"index\"].unique())\n",
        "transactions = transactions[transactions[\"customer_id\"].isin(customers_top_trans)].reset_index(drop=True)\n",
        "print(\"Unique users to recommend:\", transactions[\"customer_id\"].nunique())"
      ],
      "metadata": {
        "colab": {
          "base_uri": "https://localhost:8080/"
        },
        "id": "wfSexZfR9LZS",
        "outputId": "39af6788-d316-4de5-d136-078dd079200f"
      },
      "id": "wfSexZfR9LZS",
      "execution_count": 110,
      "outputs": [
        {
          "output_type": "stream",
          "name": "stdout",
          "text": [
            "Unique users to recommend: 63170\n"
          ]
        }
      ]
    },
    {
      "cell_type": "code",
      "source": [
        "temp = get_frequent_purchases(transactions, n=50)\n",
        "temp.head(12)"
      ],
      "metadata": {
        "colab": {
          "base_uri": "https://localhost:8080/",
          "height": 426
        },
        "id": "PBkVUxX69M9f",
        "outputId": "0d569eb4-dd67-46c1-c589-1c0fa6f370f1"
      },
      "id": "PBkVUxX69M9f",
      "execution_count": 111,
      "outputs": [
        {
          "output_type": "execute_result",
          "data": {
            "text/plain": [
              "                                          customer_id                preds\n",
              "0   0001076e215991bad544dd3e7312f78d9f576a1cc3ddc4...            715624001\n",
              "1   0001f8cef6b9702d54abf66fd89eb21014bf98567065a9...            739144004\n",
              "2   000226b9ea81019249060b376b516f821a80e9b24f89a7...  590928001 759871002\n",
              "3   00022754ec18c5e53757eea8b281632a5c4a499368ecc5...  573716012 720125001\n",
              "4   0005c68366e7955683b7cdc75535f400d76c2e713b6277...            741356002\n",
              "5   0006ca2c5ecdbdcc1de5e72adffc6c33448fc2aaa62afe...  448509001 572998001\n",
              "6   0006d8845db202dc43bd6ed3d74702df026b13fc1517c9...  611415001 611415005\n",
              "7   000c5c714aefd0d5ed1205e2781070167826ffc117ab9e...  399256005 579541001\n",
              "8   000c6acfc0457b99ae3150e8e57beffb4c8d7c5fc31e40...  579541001 803757001\n",
              "9   000ce5da167c6c8dfaea6dfc4b59a5ea3217630ec36cfc...  618800001 741356002\n",
              "10  000da3d7d0ef65573d455266b21b085483913d296f65cc...            615141002\n",
              "11  000f72a562e6a77624d7f6330b9bbaef1ecdfef26a9c14...            599580038"
            ],
            "text/html": [
              "\n",
              "  <div id=\"df-3c9d5d4b-4e1d-471a-92db-c0ad0cef346c\">\n",
              "    <div class=\"colab-df-container\">\n",
              "      <div>\n",
              "<style scoped>\n",
              "    .dataframe tbody tr th:only-of-type {\n",
              "        vertical-align: middle;\n",
              "    }\n",
              "\n",
              "    .dataframe tbody tr th {\n",
              "        vertical-align: top;\n",
              "    }\n",
              "\n",
              "    .dataframe thead th {\n",
              "        text-align: right;\n",
              "    }\n",
              "</style>\n",
              "<table border=\"1\" class=\"dataframe\">\n",
              "  <thead>\n",
              "    <tr style=\"text-align: right;\">\n",
              "      <th></th>\n",
              "      <th>customer_id</th>\n",
              "      <th>preds</th>\n",
              "    </tr>\n",
              "  </thead>\n",
              "  <tbody>\n",
              "    <tr>\n",
              "      <th>0</th>\n",
              "      <td>0001076e215991bad544dd3e7312f78d9f576a1cc3ddc4...</td>\n",
              "      <td>715624001</td>\n",
              "    </tr>\n",
              "    <tr>\n",
              "      <th>1</th>\n",
              "      <td>0001f8cef6b9702d54abf66fd89eb21014bf98567065a9...</td>\n",
              "      <td>739144004</td>\n",
              "    </tr>\n",
              "    <tr>\n",
              "      <th>2</th>\n",
              "      <td>000226b9ea81019249060b376b516f821a80e9b24f89a7...</td>\n",
              "      <td>590928001 759871002</td>\n",
              "    </tr>\n",
              "    <tr>\n",
              "      <th>3</th>\n",
              "      <td>00022754ec18c5e53757eea8b281632a5c4a499368ecc5...</td>\n",
              "      <td>573716012 720125001</td>\n",
              "    </tr>\n",
              "    <tr>\n",
              "      <th>4</th>\n",
              "      <td>0005c68366e7955683b7cdc75535f400d76c2e713b6277...</td>\n",
              "      <td>741356002</td>\n",
              "    </tr>\n",
              "    <tr>\n",
              "      <th>5</th>\n",
              "      <td>0006ca2c5ecdbdcc1de5e72adffc6c33448fc2aaa62afe...</td>\n",
              "      <td>448509001 572998001</td>\n",
              "    </tr>\n",
              "    <tr>\n",
              "      <th>6</th>\n",
              "      <td>0006d8845db202dc43bd6ed3d74702df026b13fc1517c9...</td>\n",
              "      <td>611415001 611415005</td>\n",
              "    </tr>\n",
              "    <tr>\n",
              "      <th>7</th>\n",
              "      <td>000c5c714aefd0d5ed1205e2781070167826ffc117ab9e...</td>\n",
              "      <td>399256005 579541001</td>\n",
              "    </tr>\n",
              "    <tr>\n",
              "      <th>8</th>\n",
              "      <td>000c6acfc0457b99ae3150e8e57beffb4c8d7c5fc31e40...</td>\n",
              "      <td>579541001 803757001</td>\n",
              "    </tr>\n",
              "    <tr>\n",
              "      <th>9</th>\n",
              "      <td>000ce5da167c6c8dfaea6dfc4b59a5ea3217630ec36cfc...</td>\n",
              "      <td>618800001 741356002</td>\n",
              "    </tr>\n",
              "    <tr>\n",
              "      <th>10</th>\n",
              "      <td>000da3d7d0ef65573d455266b21b085483913d296f65cc...</td>\n",
              "      <td>615141002</td>\n",
              "    </tr>\n",
              "    <tr>\n",
              "      <th>11</th>\n",
              "      <td>000f72a562e6a77624d7f6330b9bbaef1ecdfef26a9c14...</td>\n",
              "      <td>599580038</td>\n",
              "    </tr>\n",
              "  </tbody>\n",
              "</table>\n",
              "</div>\n",
              "      <button class=\"colab-df-convert\" onclick=\"convertToInteractive('df-3c9d5d4b-4e1d-471a-92db-c0ad0cef346c')\"\n",
              "              title=\"Convert this dataframe to an interactive table.\"\n",
              "              style=\"display:none;\">\n",
              "        \n",
              "  <svg xmlns=\"http://www.w3.org/2000/svg\" height=\"24px\"viewBox=\"0 0 24 24\"\n",
              "       width=\"24px\">\n",
              "    <path d=\"M0 0h24v24H0V0z\" fill=\"none\"/>\n",
              "    <path d=\"M18.56 5.44l.94 2.06.94-2.06 2.06-.94-2.06-.94-.94-2.06-.94 2.06-2.06.94zm-11 1L8.5 8.5l.94-2.06 2.06-.94-2.06-.94L8.5 2.5l-.94 2.06-2.06.94zm10 10l.94 2.06.94-2.06 2.06-.94-2.06-.94-.94-2.06-.94 2.06-2.06.94z\"/><path d=\"M17.41 7.96l-1.37-1.37c-.4-.4-.92-.59-1.43-.59-.52 0-1.04.2-1.43.59L10.3 9.45l-7.72 7.72c-.78.78-.78 2.05 0 2.83L4 21.41c.39.39.9.59 1.41.59.51 0 1.02-.2 1.41-.59l7.78-7.78 2.81-2.81c.8-.78.8-2.07 0-2.86zM5.41 20L4 18.59l7.72-7.72 1.47 1.35L5.41 20z\"/>\n",
              "  </svg>\n",
              "      </button>\n",
              "      \n",
              "  <style>\n",
              "    .colab-df-container {\n",
              "      display:flex;\n",
              "      flex-wrap:wrap;\n",
              "      gap: 12px;\n",
              "    }\n",
              "\n",
              "    .colab-df-convert {\n",
              "      background-color: #E8F0FE;\n",
              "      border: none;\n",
              "      border-radius: 50%;\n",
              "      cursor: pointer;\n",
              "      display: none;\n",
              "      fill: #1967D2;\n",
              "      height: 32px;\n",
              "      padding: 0 0 0 0;\n",
              "      width: 32px;\n",
              "    }\n",
              "\n",
              "    .colab-df-convert:hover {\n",
              "      background-color: #E2EBFA;\n",
              "      box-shadow: 0px 1px 2px rgba(60, 64, 67, 0.3), 0px 1px 3px 1px rgba(60, 64, 67, 0.15);\n",
              "      fill: #174EA6;\n",
              "    }\n",
              "\n",
              "    [theme=dark] .colab-df-convert {\n",
              "      background-color: #3B4455;\n",
              "      fill: #D2E3FC;\n",
              "    }\n",
              "\n",
              "    [theme=dark] .colab-df-convert:hover {\n",
              "      background-color: #434B5C;\n",
              "      box-shadow: 0px 1px 3px 1px rgba(0, 0, 0, 0.15);\n",
              "      filter: drop-shadow(0px 1px 2px rgba(0, 0, 0, 0.3));\n",
              "      fill: #FFFFFF;\n",
              "    }\n",
              "  </style>\n",
              "\n",
              "      <script>\n",
              "        const buttonEl =\n",
              "          document.querySelector('#df-3c9d5d4b-4e1d-471a-92db-c0ad0cef346c button.colab-df-convert');\n",
              "        buttonEl.style.display =\n",
              "          google.colab.kernel.accessAllowed ? 'block' : 'none';\n",
              "\n",
              "        async function convertToInteractive(key) {\n",
              "          const element = document.querySelector('#df-3c9d5d4b-4e1d-471a-92db-c0ad0cef346c');\n",
              "          const dataTable =\n",
              "            await google.colab.kernel.invokeFunction('convertToInteractive',\n",
              "                                                     [key], {});\n",
              "          if (!dataTable) return;\n",
              "\n",
              "          const docLinkHtml = 'Like what you see? Visit the ' +\n",
              "            '<a target=\"_blank\" href=https://colab.research.google.com/notebooks/data_table.ipynb>data table notebook</a>'\n",
              "            + ' to learn more about interactive tables.';\n",
              "          element.innerHTML = '';\n",
              "          dataTable['output_type'] = 'display_data';\n",
              "          await google.colab.output.renderOutput(dataTable, element);\n",
              "          const docLink = document.createElement('div');\n",
              "          docLink.innerHTML = docLinkHtml;\n",
              "          element.appendChild(docLink);\n",
              "        }\n",
              "      </script>\n",
              "    </div>\n",
              "  </div>\n",
              "  "
            ]
          },
          "metadata": {},
          "execution_count": 111
        }
      ]
    },
    {
      "cell_type": "code",
      "source": [
        "del most_frequent_articles, customers_top_trans"
      ],
      "metadata": {
        "id": "FKKADNF99XIS"
      },
      "id": "FKKADNF99XIS",
      "execution_count": 112,
      "outputs": []
    },
    {
      "cell_type": "code",
      "source": [
        "gc.collect()"
      ],
      "metadata": {
        "colab": {
          "base_uri": "https://localhost:8080/"
        },
        "id": "qhtYDNhP9ZTu",
        "outputId": "60ffc762-e434-4aee-cb32-51c5e0faa9ea"
      },
      "id": "qhtYDNhP9ZTu",
      "execution_count": 113,
      "outputs": [
        {
          "output_type": "execute_result",
          "data": {
            "text/plain": [
              "146"
            ]
          },
          "metadata": {},
          "execution_count": 113
        }
      ]
    },
    {
      "cell_type": "code",
      "source": [
        "train = transactions.groupby([\"customer_id\",\"article_id\"])[\"t_dat\"].count().reset_index()\n",
        "train.columns = [\"customer_id\",\"article_id\", \"purchase_count\"]\n",
        "train.head()"
      ],
      "metadata": {
        "colab": {
          "base_uri": "https://localhost:8080/",
          "height": 206
        },
        "id": "ZHZ3pmOj9arW",
        "outputId": "2ec238be-0f2b-4434-dcae-f2d4ffbc927f"
      },
      "id": "ZHZ3pmOj9arW",
      "execution_count": 114,
      "outputs": [
        {
          "output_type": "execute_result",
          "data": {
            "text/plain": [
              "                                         customer_id  article_id  \\\n",
              "0  0001076e215991bad544dd3e7312f78d9f576a1cc3ddc4...   715624001   \n",
              "1  0001f8cef6b9702d54abf66fd89eb21014bf98567065a9...   739144004   \n",
              "2  000226b9ea81019249060b376b516f821a80e9b24f89a7...   590928001   \n",
              "3  000226b9ea81019249060b376b516f821a80e9b24f89a7...   759871002   \n",
              "4  00022754ec18c5e53757eea8b281632a5c4a499368ecc5...   573716012   \n",
              "\n",
              "   purchase_count  \n",
              "0               1  \n",
              "1               1  \n",
              "2               1  \n",
              "3               1  \n",
              "4               1  "
            ],
            "text/html": [
              "\n",
              "  <div id=\"df-f08915ec-9eb8-4626-8a3f-2b80ab37cb13\">\n",
              "    <div class=\"colab-df-container\">\n",
              "      <div>\n",
              "<style scoped>\n",
              "    .dataframe tbody tr th:only-of-type {\n",
              "        vertical-align: middle;\n",
              "    }\n",
              "\n",
              "    .dataframe tbody tr th {\n",
              "        vertical-align: top;\n",
              "    }\n",
              "\n",
              "    .dataframe thead th {\n",
              "        text-align: right;\n",
              "    }\n",
              "</style>\n",
              "<table border=\"1\" class=\"dataframe\">\n",
              "  <thead>\n",
              "    <tr style=\"text-align: right;\">\n",
              "      <th></th>\n",
              "      <th>customer_id</th>\n",
              "      <th>article_id</th>\n",
              "      <th>purchase_count</th>\n",
              "    </tr>\n",
              "  </thead>\n",
              "  <tbody>\n",
              "    <tr>\n",
              "      <th>0</th>\n",
              "      <td>0001076e215991bad544dd3e7312f78d9f576a1cc3ddc4...</td>\n",
              "      <td>715624001</td>\n",
              "      <td>1</td>\n",
              "    </tr>\n",
              "    <tr>\n",
              "      <th>1</th>\n",
              "      <td>0001f8cef6b9702d54abf66fd89eb21014bf98567065a9...</td>\n",
              "      <td>739144004</td>\n",
              "      <td>1</td>\n",
              "    </tr>\n",
              "    <tr>\n",
              "      <th>2</th>\n",
              "      <td>000226b9ea81019249060b376b516f821a80e9b24f89a7...</td>\n",
              "      <td>590928001</td>\n",
              "      <td>1</td>\n",
              "    </tr>\n",
              "    <tr>\n",
              "      <th>3</th>\n",
              "      <td>000226b9ea81019249060b376b516f821a80e9b24f89a7...</td>\n",
              "      <td>759871002</td>\n",
              "      <td>1</td>\n",
              "    </tr>\n",
              "    <tr>\n",
              "      <th>4</th>\n",
              "      <td>00022754ec18c5e53757eea8b281632a5c4a499368ecc5...</td>\n",
              "      <td>573716012</td>\n",
              "      <td>1</td>\n",
              "    </tr>\n",
              "  </tbody>\n",
              "</table>\n",
              "</div>\n",
              "      <button class=\"colab-df-convert\" onclick=\"convertToInteractive('df-f08915ec-9eb8-4626-8a3f-2b80ab37cb13')\"\n",
              "              title=\"Convert this dataframe to an interactive table.\"\n",
              "              style=\"display:none;\">\n",
              "        \n",
              "  <svg xmlns=\"http://www.w3.org/2000/svg\" height=\"24px\"viewBox=\"0 0 24 24\"\n",
              "       width=\"24px\">\n",
              "    <path d=\"M0 0h24v24H0V0z\" fill=\"none\"/>\n",
              "    <path d=\"M18.56 5.44l.94 2.06.94-2.06 2.06-.94-2.06-.94-.94-2.06-.94 2.06-2.06.94zm-11 1L8.5 8.5l.94-2.06 2.06-.94-2.06-.94L8.5 2.5l-.94 2.06-2.06.94zm10 10l.94 2.06.94-2.06 2.06-.94-2.06-.94-.94-2.06-.94 2.06-2.06.94z\"/><path d=\"M17.41 7.96l-1.37-1.37c-.4-.4-.92-.59-1.43-.59-.52 0-1.04.2-1.43.59L10.3 9.45l-7.72 7.72c-.78.78-.78 2.05 0 2.83L4 21.41c.39.39.9.59 1.41.59.51 0 1.02-.2 1.41-.59l7.78-7.78 2.81-2.81c.8-.78.8-2.07 0-2.86zM5.41 20L4 18.59l7.72-7.72 1.47 1.35L5.41 20z\"/>\n",
              "  </svg>\n",
              "      </button>\n",
              "      \n",
              "  <style>\n",
              "    .colab-df-container {\n",
              "      display:flex;\n",
              "      flex-wrap:wrap;\n",
              "      gap: 12px;\n",
              "    }\n",
              "\n",
              "    .colab-df-convert {\n",
              "      background-color: #E8F0FE;\n",
              "      border: none;\n",
              "      border-radius: 50%;\n",
              "      cursor: pointer;\n",
              "      display: none;\n",
              "      fill: #1967D2;\n",
              "      height: 32px;\n",
              "      padding: 0 0 0 0;\n",
              "      width: 32px;\n",
              "    }\n",
              "\n",
              "    .colab-df-convert:hover {\n",
              "      background-color: #E2EBFA;\n",
              "      box-shadow: 0px 1px 2px rgba(60, 64, 67, 0.3), 0px 1px 3px 1px rgba(60, 64, 67, 0.15);\n",
              "      fill: #174EA6;\n",
              "    }\n",
              "\n",
              "    [theme=dark] .colab-df-convert {\n",
              "      background-color: #3B4455;\n",
              "      fill: #D2E3FC;\n",
              "    }\n",
              "\n",
              "    [theme=dark] .colab-df-convert:hover {\n",
              "      background-color: #434B5C;\n",
              "      box-shadow: 0px 1px 3px 1px rgba(0, 0, 0, 0.15);\n",
              "      filter: drop-shadow(0px 1px 2px rgba(0, 0, 0, 0.3));\n",
              "      fill: #FFFFFF;\n",
              "    }\n",
              "  </style>\n",
              "\n",
              "      <script>\n",
              "        const buttonEl =\n",
              "          document.querySelector('#df-f08915ec-9eb8-4626-8a3f-2b80ab37cb13 button.colab-df-convert');\n",
              "        buttonEl.style.display =\n",
              "          google.colab.kernel.accessAllowed ? 'block' : 'none';\n",
              "\n",
              "        async function convertToInteractive(key) {\n",
              "          const element = document.querySelector('#df-f08915ec-9eb8-4626-8a3f-2b80ab37cb13');\n",
              "          const dataTable =\n",
              "            await google.colab.kernel.invokeFunction('convertToInteractive',\n",
              "                                                     [key], {});\n",
              "          if (!dataTable) return;\n",
              "\n",
              "          const docLinkHtml = 'Like what you see? Visit the ' +\n",
              "            '<a target=\"_blank\" href=https://colab.research.google.com/notebooks/data_table.ipynb>data table notebook</a>'\n",
              "            + ' to learn more about interactive tables.';\n",
              "          element.innerHTML = '';\n",
              "          dataTable['output_type'] = 'display_data';\n",
              "          await google.colab.output.renderOutput(dataTable, element);\n",
              "          const docLink = document.createElement('div');\n",
              "          docLink.innerHTML = docLinkHtml;\n",
              "          element.appendChild(docLink);\n",
              "        }\n",
              "      </script>\n",
              "    </div>\n",
              "  </div>\n",
              "  "
            ]
          },
          "metadata": {},
          "execution_count": 114
        }
      ]
    },
    {
      "cell_type": "code",
      "source": [
        "dummy_train = train.copy()\n",
        "dummy_train['purchase_dummy'] = 1\n",
        "dummy_train.head()"
      ],
      "metadata": {
        "colab": {
          "base_uri": "https://localhost:8080/",
          "height": 206
        },
        "id": "wWGQaVg99cmN",
        "outputId": "3e15e64f-b46c-4803-9993-45767b7b25c7"
      },
      "id": "wWGQaVg99cmN",
      "execution_count": 115,
      "outputs": [
        {
          "output_type": "execute_result",
          "data": {
            "text/plain": [
              "                                         customer_id  article_id  \\\n",
              "0  0001076e215991bad544dd3e7312f78d9f576a1cc3ddc4...   715624001   \n",
              "1  0001f8cef6b9702d54abf66fd89eb21014bf98567065a9...   739144004   \n",
              "2  000226b9ea81019249060b376b516f821a80e9b24f89a7...   590928001   \n",
              "3  000226b9ea81019249060b376b516f821a80e9b24f89a7...   759871002   \n",
              "4  00022754ec18c5e53757eea8b281632a5c4a499368ecc5...   573716012   \n",
              "\n",
              "   purchase_count  purchase_dummy  \n",
              "0               1               1  \n",
              "1               1               1  \n",
              "2               1               1  \n",
              "3               1               1  \n",
              "4               1               1  "
            ],
            "text/html": [
              "\n",
              "  <div id=\"df-b01a2e3a-e23c-4388-910a-99fe76e11c1a\">\n",
              "    <div class=\"colab-df-container\">\n",
              "      <div>\n",
              "<style scoped>\n",
              "    .dataframe tbody tr th:only-of-type {\n",
              "        vertical-align: middle;\n",
              "    }\n",
              "\n",
              "    .dataframe tbody tr th {\n",
              "        vertical-align: top;\n",
              "    }\n",
              "\n",
              "    .dataframe thead th {\n",
              "        text-align: right;\n",
              "    }\n",
              "</style>\n",
              "<table border=\"1\" class=\"dataframe\">\n",
              "  <thead>\n",
              "    <tr style=\"text-align: right;\">\n",
              "      <th></th>\n",
              "      <th>customer_id</th>\n",
              "      <th>article_id</th>\n",
              "      <th>purchase_count</th>\n",
              "      <th>purchase_dummy</th>\n",
              "    </tr>\n",
              "  </thead>\n",
              "  <tbody>\n",
              "    <tr>\n",
              "      <th>0</th>\n",
              "      <td>0001076e215991bad544dd3e7312f78d9f576a1cc3ddc4...</td>\n",
              "      <td>715624001</td>\n",
              "      <td>1</td>\n",
              "      <td>1</td>\n",
              "    </tr>\n",
              "    <tr>\n",
              "      <th>1</th>\n",
              "      <td>0001f8cef6b9702d54abf66fd89eb21014bf98567065a9...</td>\n",
              "      <td>739144004</td>\n",
              "      <td>1</td>\n",
              "      <td>1</td>\n",
              "    </tr>\n",
              "    <tr>\n",
              "      <th>2</th>\n",
              "      <td>000226b9ea81019249060b376b516f821a80e9b24f89a7...</td>\n",
              "      <td>590928001</td>\n",
              "      <td>1</td>\n",
              "      <td>1</td>\n",
              "    </tr>\n",
              "    <tr>\n",
              "      <th>3</th>\n",
              "      <td>000226b9ea81019249060b376b516f821a80e9b24f89a7...</td>\n",
              "      <td>759871002</td>\n",
              "      <td>1</td>\n",
              "      <td>1</td>\n",
              "    </tr>\n",
              "    <tr>\n",
              "      <th>4</th>\n",
              "      <td>00022754ec18c5e53757eea8b281632a5c4a499368ecc5...</td>\n",
              "      <td>573716012</td>\n",
              "      <td>1</td>\n",
              "      <td>1</td>\n",
              "    </tr>\n",
              "  </tbody>\n",
              "</table>\n",
              "</div>\n",
              "      <button class=\"colab-df-convert\" onclick=\"convertToInteractive('df-b01a2e3a-e23c-4388-910a-99fe76e11c1a')\"\n",
              "              title=\"Convert this dataframe to an interactive table.\"\n",
              "              style=\"display:none;\">\n",
              "        \n",
              "  <svg xmlns=\"http://www.w3.org/2000/svg\" height=\"24px\"viewBox=\"0 0 24 24\"\n",
              "       width=\"24px\">\n",
              "    <path d=\"M0 0h24v24H0V0z\" fill=\"none\"/>\n",
              "    <path d=\"M18.56 5.44l.94 2.06.94-2.06 2.06-.94-2.06-.94-.94-2.06-.94 2.06-2.06.94zm-11 1L8.5 8.5l.94-2.06 2.06-.94-2.06-.94L8.5 2.5l-.94 2.06-2.06.94zm10 10l.94 2.06.94-2.06 2.06-.94-2.06-.94-.94-2.06-.94 2.06-2.06.94z\"/><path d=\"M17.41 7.96l-1.37-1.37c-.4-.4-.92-.59-1.43-.59-.52 0-1.04.2-1.43.59L10.3 9.45l-7.72 7.72c-.78.78-.78 2.05 0 2.83L4 21.41c.39.39.9.59 1.41.59.51 0 1.02-.2 1.41-.59l7.78-7.78 2.81-2.81c.8-.78.8-2.07 0-2.86zM5.41 20L4 18.59l7.72-7.72 1.47 1.35L5.41 20z\"/>\n",
              "  </svg>\n",
              "      </button>\n",
              "      \n",
              "  <style>\n",
              "    .colab-df-container {\n",
              "      display:flex;\n",
              "      flex-wrap:wrap;\n",
              "      gap: 12px;\n",
              "    }\n",
              "\n",
              "    .colab-df-convert {\n",
              "      background-color: #E8F0FE;\n",
              "      border: none;\n",
              "      border-radius: 50%;\n",
              "      cursor: pointer;\n",
              "      display: none;\n",
              "      fill: #1967D2;\n",
              "      height: 32px;\n",
              "      padding: 0 0 0 0;\n",
              "      width: 32px;\n",
              "    }\n",
              "\n",
              "    .colab-df-convert:hover {\n",
              "      background-color: #E2EBFA;\n",
              "      box-shadow: 0px 1px 2px rgba(60, 64, 67, 0.3), 0px 1px 3px 1px rgba(60, 64, 67, 0.15);\n",
              "      fill: #174EA6;\n",
              "    }\n",
              "\n",
              "    [theme=dark] .colab-df-convert {\n",
              "      background-color: #3B4455;\n",
              "      fill: #D2E3FC;\n",
              "    }\n",
              "\n",
              "    [theme=dark] .colab-df-convert:hover {\n",
              "      background-color: #434B5C;\n",
              "      box-shadow: 0px 1px 3px 1px rgba(0, 0, 0, 0.15);\n",
              "      filter: drop-shadow(0px 1px 2px rgba(0, 0, 0, 0.3));\n",
              "      fill: #FFFFFF;\n",
              "    }\n",
              "  </style>\n",
              "\n",
              "      <script>\n",
              "        const buttonEl =\n",
              "          document.querySelector('#df-b01a2e3a-e23c-4388-910a-99fe76e11c1a button.colab-df-convert');\n",
              "        buttonEl.style.display =\n",
              "          google.colab.kernel.accessAllowed ? 'block' : 'none';\n",
              "\n",
              "        async function convertToInteractive(key) {\n",
              "          const element = document.querySelector('#df-b01a2e3a-e23c-4388-910a-99fe76e11c1a');\n",
              "          const dataTable =\n",
              "            await google.colab.kernel.invokeFunction('convertToInteractive',\n",
              "                                                     [key], {});\n",
              "          if (!dataTable) return;\n",
              "\n",
              "          const docLinkHtml = 'Like what you see? Visit the ' +\n",
              "            '<a target=\"_blank\" href=https://colab.research.google.com/notebooks/data_table.ipynb>data table notebook</a>'\n",
              "            + ' to learn more about interactive tables.';\n",
              "          element.innerHTML = '';\n",
              "          dataTable['output_type'] = 'display_data';\n",
              "          await google.colab.output.renderOutput(dataTable, element);\n",
              "          const docLink = document.createElement('div');\n",
              "          docLink.innerHTML = docLinkHtml;\n",
              "          element.appendChild(docLink);\n",
              "        }\n",
              "      </script>\n",
              "    </div>\n",
              "  </div>\n",
              "  "
            ]
          },
          "metadata": {},
          "execution_count": 115
        }
      ]
    },
    {
      "cell_type": "code",
      "source": [
        "def normalize_data(data):\n",
        "    df_matrix = pd.DataFrame(pd.pivot(data, columns=\"article_id\",index=\"customer_id\", values=\"purchase_count\"))\n",
        "    df_matrix_norm = (df_matrix-df_matrix.min())/(df_matrix.max()-df_matrix.min())\n",
        "    d = df_matrix_norm.reset_index()\n",
        "    d.index.names = ['scaled_purchase_freq']\n",
        "    final = pd.melt(d, id_vars=['customer_id'], value_name='scaled_purchase_freq').dropna()\n",
        "    final.columns = [\"customer_id\", \"article_id\", \"scaled_purchase_freq\"]\n",
        "    final = final.reset_index(drop=True)\n",
        "    return final"
      ],
      "metadata": {
        "id": "GjpzUWuW9eYF"
      },
      "id": "GjpzUWuW9eYF",
      "execution_count": 116,
      "outputs": []
    },
    {
      "cell_type": "code",
      "source": [
        "norm_train = normalize_data(data=train)\n",
        "norm_train.head()"
      ],
      "metadata": {
        "colab": {
          "base_uri": "https://localhost:8080/",
          "height": 206
        },
        "id": "8d2H2dSW9gDd",
        "outputId": "db93ce8a-bc31-4ba4-9119-142b592f0b76"
      },
      "id": "8d2H2dSW9gDd",
      "execution_count": 117,
      "outputs": [
        {
          "output_type": "execute_result",
          "data": {
            "text/plain": [
              "                                         customer_id article_id  \\\n",
              "0  00a758653e07ebcdfcb1ae052e5d0ae6a5f7cf40434154...  108775015   \n",
              "1  00ada42f83a04a8c02035021f31c83989c2d1b65286298...  108775015   \n",
              "2  00c3c6a5e9ed6dc59a7e4b61b0d506ae2cdabceea54d39...  108775015   \n",
              "3  01029cacbcf5a8e6de8d9f523eabd26d0182b92470f911...  108775015   \n",
              "4  01be7a105a8038955fd7cec2bf80333c32ef031cfa3868...  108775015   \n",
              "\n",
              "   scaled_purchase_freq  \n",
              "0              0.000000  \n",
              "1              0.333333  \n",
              "2              0.000000  \n",
              "3              0.000000  \n",
              "4              0.000000  "
            ],
            "text/html": [
              "\n",
              "  <div id=\"df-44c071e8-1010-4339-b8e4-6097a3ef0ee6\">\n",
              "    <div class=\"colab-df-container\">\n",
              "      <div>\n",
              "<style scoped>\n",
              "    .dataframe tbody tr th:only-of-type {\n",
              "        vertical-align: middle;\n",
              "    }\n",
              "\n",
              "    .dataframe tbody tr th {\n",
              "        vertical-align: top;\n",
              "    }\n",
              "\n",
              "    .dataframe thead th {\n",
              "        text-align: right;\n",
              "    }\n",
              "</style>\n",
              "<table border=\"1\" class=\"dataframe\">\n",
              "  <thead>\n",
              "    <tr style=\"text-align: right;\">\n",
              "      <th></th>\n",
              "      <th>customer_id</th>\n",
              "      <th>article_id</th>\n",
              "      <th>scaled_purchase_freq</th>\n",
              "    </tr>\n",
              "  </thead>\n",
              "  <tbody>\n",
              "    <tr>\n",
              "      <th>0</th>\n",
              "      <td>00a758653e07ebcdfcb1ae052e5d0ae6a5f7cf40434154...</td>\n",
              "      <td>108775015</td>\n",
              "      <td>0.000000</td>\n",
              "    </tr>\n",
              "    <tr>\n",
              "      <th>1</th>\n",
              "      <td>00ada42f83a04a8c02035021f31c83989c2d1b65286298...</td>\n",
              "      <td>108775015</td>\n",
              "      <td>0.333333</td>\n",
              "    </tr>\n",
              "    <tr>\n",
              "      <th>2</th>\n",
              "      <td>00c3c6a5e9ed6dc59a7e4b61b0d506ae2cdabceea54d39...</td>\n",
              "      <td>108775015</td>\n",
              "      <td>0.000000</td>\n",
              "    </tr>\n",
              "    <tr>\n",
              "      <th>3</th>\n",
              "      <td>01029cacbcf5a8e6de8d9f523eabd26d0182b92470f911...</td>\n",
              "      <td>108775015</td>\n",
              "      <td>0.000000</td>\n",
              "    </tr>\n",
              "    <tr>\n",
              "      <th>4</th>\n",
              "      <td>01be7a105a8038955fd7cec2bf80333c32ef031cfa3868...</td>\n",
              "      <td>108775015</td>\n",
              "      <td>0.000000</td>\n",
              "    </tr>\n",
              "  </tbody>\n",
              "</table>\n",
              "</div>\n",
              "      <button class=\"colab-df-convert\" onclick=\"convertToInteractive('df-44c071e8-1010-4339-b8e4-6097a3ef0ee6')\"\n",
              "              title=\"Convert this dataframe to an interactive table.\"\n",
              "              style=\"display:none;\">\n",
              "        \n",
              "  <svg xmlns=\"http://www.w3.org/2000/svg\" height=\"24px\"viewBox=\"0 0 24 24\"\n",
              "       width=\"24px\">\n",
              "    <path d=\"M0 0h24v24H0V0z\" fill=\"none\"/>\n",
              "    <path d=\"M18.56 5.44l.94 2.06.94-2.06 2.06-.94-2.06-.94-.94-2.06-.94 2.06-2.06.94zm-11 1L8.5 8.5l.94-2.06 2.06-.94-2.06-.94L8.5 2.5l-.94 2.06-2.06.94zm10 10l.94 2.06.94-2.06 2.06-.94-2.06-.94-.94-2.06-.94 2.06-2.06.94z\"/><path d=\"M17.41 7.96l-1.37-1.37c-.4-.4-.92-.59-1.43-.59-.52 0-1.04.2-1.43.59L10.3 9.45l-7.72 7.72c-.78.78-.78 2.05 0 2.83L4 21.41c.39.39.9.59 1.41.59.51 0 1.02-.2 1.41-.59l7.78-7.78 2.81-2.81c.8-.78.8-2.07 0-2.86zM5.41 20L4 18.59l7.72-7.72 1.47 1.35L5.41 20z\"/>\n",
              "  </svg>\n",
              "      </button>\n",
              "      \n",
              "  <style>\n",
              "    .colab-df-container {\n",
              "      display:flex;\n",
              "      flex-wrap:wrap;\n",
              "      gap: 12px;\n",
              "    }\n",
              "\n",
              "    .colab-df-convert {\n",
              "      background-color: #E8F0FE;\n",
              "      border: none;\n",
              "      border-radius: 50%;\n",
              "      cursor: pointer;\n",
              "      display: none;\n",
              "      fill: #1967D2;\n",
              "      height: 32px;\n",
              "      padding: 0 0 0 0;\n",
              "      width: 32px;\n",
              "    }\n",
              "\n",
              "    .colab-df-convert:hover {\n",
              "      background-color: #E2EBFA;\n",
              "      box-shadow: 0px 1px 2px rgba(60, 64, 67, 0.3), 0px 1px 3px 1px rgba(60, 64, 67, 0.15);\n",
              "      fill: #174EA6;\n",
              "    }\n",
              "\n",
              "    [theme=dark] .colab-df-convert {\n",
              "      background-color: #3B4455;\n",
              "      fill: #D2E3FC;\n",
              "    }\n",
              "\n",
              "    [theme=dark] .colab-df-convert:hover {\n",
              "      background-color: #434B5C;\n",
              "      box-shadow: 0px 1px 3px 1px rgba(0, 0, 0, 0.15);\n",
              "      filter: drop-shadow(0px 1px 2px rgba(0, 0, 0, 0.3));\n",
              "      fill: #FFFFFF;\n",
              "    }\n",
              "  </style>\n",
              "\n",
              "      <script>\n",
              "        const buttonEl =\n",
              "          document.querySelector('#df-44c071e8-1010-4339-b8e4-6097a3ef0ee6 button.colab-df-convert');\n",
              "        buttonEl.style.display =\n",
              "          google.colab.kernel.accessAllowed ? 'block' : 'none';\n",
              "\n",
              "        async function convertToInteractive(key) {\n",
              "          const element = document.querySelector('#df-44c071e8-1010-4339-b8e4-6097a3ef0ee6');\n",
              "          const dataTable =\n",
              "            await google.colab.kernel.invokeFunction('convertToInteractive',\n",
              "                                                     [key], {});\n",
              "          if (!dataTable) return;\n",
              "\n",
              "          const docLinkHtml = 'Like what you see? Visit the ' +\n",
              "            '<a target=\"_blank\" href=https://colab.research.google.com/notebooks/data_table.ipynb>data table notebook</a>'\n",
              "            + ' to learn more about interactive tables.';\n",
              "          element.innerHTML = '';\n",
              "          dataTable['output_type'] = 'display_data';\n",
              "          await google.colab.output.renderOutput(dataTable, element);\n",
              "          const docLink = document.createElement('div');\n",
              "          docLink.innerHTML = docLinkHtml;\n",
              "          element.appendChild(docLink);\n",
              "        }\n",
              "      </script>\n",
              "    </div>\n",
              "  </div>\n",
              "  "
            ]
          },
          "metadata": {},
          "execution_count": 117
        }
      ]
    },
    {
      "cell_type": "code",
      "source": [
        "def split_data(data):\n",
        "    train, test = train_test_split(data, test_size=0.3)\n",
        "    train_data =train\n",
        "    test_data = test\n",
        "    return train_data, test_data"
      ],
      "metadata": {
        "id": "oaCWyaxy9hei"
      },
      "id": "oaCWyaxy9hei",
      "execution_count": 118,
      "outputs": []
    },
    {
      "cell_type": "code",
      "source": [
        "train_data, test_data = split_data(train)\n",
        "train_data_dummy, test_data_dummy = split_data(dummy_train)"
      ],
      "metadata": {
        "id": "LRMpGtb99jHm"
      },
      "id": "LRMpGtb99jHm",
      "execution_count": 119,
      "outputs": []
    },
    {
      "cell_type": "code",
      "source": [
        "train_data_norm, test_data_norm = split_data(norm_train)"
      ],
      "metadata": {
        "id": "1gbBKLRgaRsG"
      },
      "id": "1gbBKLRgaRsG",
      "execution_count": 120,
      "outputs": []
    },
    {
      "cell_type": "code",
      "source": [
        "user_id = 'customer_id'\n",
        "item_id = 'article_id'\n",
        "users_to_recommend = list(train[\"customer_id\"].unique())"
      ],
      "metadata": {
        "id": "73leNLYU9kvr"
      },
      "id": "73leNLYU9kvr",
      "execution_count": 121,
      "outputs": []
    },
    {
      "cell_type": "code",
      "source": [
        "train_data.article_id=train_data.article_id.astype(str)\n",
        "train.article_id=train.article_id.astype(str)\n",
        "dummy_train.article_id=dummy_train.article_id.astype(str)"
      ],
      "metadata": {
        "id": "R8Sk-c9HZOCz"
      },
      "id": "R8Sk-c9HZOCz",
      "execution_count": 122,
      "outputs": []
    },
    {
      "cell_type": "code",
      "source": [
        "train_data.head()"
      ],
      "metadata": {
        "colab": {
          "base_uri": "https://localhost:8080/",
          "height": 206
        },
        "id": "Ib_nKDPm9mEn",
        "outputId": "9ac1e0e7-fe29-4199-f38f-2e57a8129aca"
      },
      "id": "Ib_nKDPm9mEn",
      "execution_count": 123,
      "outputs": [
        {
          "output_type": "execute_result",
          "data": {
            "text/plain": [
              "                                              customer_id article_id  \\\n",
              "35079   3258fbad7a66115c3f0bab2019b56a3da2ff52e7a42c95...  554450027   \n",
              "15515   164b123cdadd26ba7da4612338ea7d47c92a6a996b5a28...  749699002   \n",
              "119776  af1bcf766b6d2e789afe16d855ea828d99ce39c387b6df...  827968001   \n",
              "64453   5daac491927b06f166a3dd99b621f2bb95d571e868ee89...  778064003   \n",
              "152625  df42dad681c22d1826ab68c6f301e9e4cedbbb4c42f727...  448509014   \n",
              "\n",
              "        purchase_count  \n",
              "35079                1  \n",
              "15515                1  \n",
              "119776               1  \n",
              "64453                1  \n",
              "152625               1  "
            ],
            "text/html": [
              "\n",
              "  <div id=\"df-0d942009-f311-4871-b833-b9e1690e0c08\">\n",
              "    <div class=\"colab-df-container\">\n",
              "      <div>\n",
              "<style scoped>\n",
              "    .dataframe tbody tr th:only-of-type {\n",
              "        vertical-align: middle;\n",
              "    }\n",
              "\n",
              "    .dataframe tbody tr th {\n",
              "        vertical-align: top;\n",
              "    }\n",
              "\n",
              "    .dataframe thead th {\n",
              "        text-align: right;\n",
              "    }\n",
              "</style>\n",
              "<table border=\"1\" class=\"dataframe\">\n",
              "  <thead>\n",
              "    <tr style=\"text-align: right;\">\n",
              "      <th></th>\n",
              "      <th>customer_id</th>\n",
              "      <th>article_id</th>\n",
              "      <th>purchase_count</th>\n",
              "    </tr>\n",
              "  </thead>\n",
              "  <tbody>\n",
              "    <tr>\n",
              "      <th>35079</th>\n",
              "      <td>3258fbad7a66115c3f0bab2019b56a3da2ff52e7a42c95...</td>\n",
              "      <td>554450027</td>\n",
              "      <td>1</td>\n",
              "    </tr>\n",
              "    <tr>\n",
              "      <th>15515</th>\n",
              "      <td>164b123cdadd26ba7da4612338ea7d47c92a6a996b5a28...</td>\n",
              "      <td>749699002</td>\n",
              "      <td>1</td>\n",
              "    </tr>\n",
              "    <tr>\n",
              "      <th>119776</th>\n",
              "      <td>af1bcf766b6d2e789afe16d855ea828d99ce39c387b6df...</td>\n",
              "      <td>827968001</td>\n",
              "      <td>1</td>\n",
              "    </tr>\n",
              "    <tr>\n",
              "      <th>64453</th>\n",
              "      <td>5daac491927b06f166a3dd99b621f2bb95d571e868ee89...</td>\n",
              "      <td>778064003</td>\n",
              "      <td>1</td>\n",
              "    </tr>\n",
              "    <tr>\n",
              "      <th>152625</th>\n",
              "      <td>df42dad681c22d1826ab68c6f301e9e4cedbbb4c42f727...</td>\n",
              "      <td>448509014</td>\n",
              "      <td>1</td>\n",
              "    </tr>\n",
              "  </tbody>\n",
              "</table>\n",
              "</div>\n",
              "      <button class=\"colab-df-convert\" onclick=\"convertToInteractive('df-0d942009-f311-4871-b833-b9e1690e0c08')\"\n",
              "              title=\"Convert this dataframe to an interactive table.\"\n",
              "              style=\"display:none;\">\n",
              "        \n",
              "  <svg xmlns=\"http://www.w3.org/2000/svg\" height=\"24px\"viewBox=\"0 0 24 24\"\n",
              "       width=\"24px\">\n",
              "    <path d=\"M0 0h24v24H0V0z\" fill=\"none\"/>\n",
              "    <path d=\"M18.56 5.44l.94 2.06.94-2.06 2.06-.94-2.06-.94-.94-2.06-.94 2.06-2.06.94zm-11 1L8.5 8.5l.94-2.06 2.06-.94-2.06-.94L8.5 2.5l-.94 2.06-2.06.94zm10 10l.94 2.06.94-2.06 2.06-.94-2.06-.94-.94-2.06-.94 2.06-2.06.94z\"/><path d=\"M17.41 7.96l-1.37-1.37c-.4-.4-.92-.59-1.43-.59-.52 0-1.04.2-1.43.59L10.3 9.45l-7.72 7.72c-.78.78-.78 2.05 0 2.83L4 21.41c.39.39.9.59 1.41.59.51 0 1.02-.2 1.41-.59l7.78-7.78 2.81-2.81c.8-.78.8-2.07 0-2.86zM5.41 20L4 18.59l7.72-7.72 1.47 1.35L5.41 20z\"/>\n",
              "  </svg>\n",
              "      </button>\n",
              "      \n",
              "  <style>\n",
              "    .colab-df-container {\n",
              "      display:flex;\n",
              "      flex-wrap:wrap;\n",
              "      gap: 12px;\n",
              "    }\n",
              "\n",
              "    .colab-df-convert {\n",
              "      background-color: #E8F0FE;\n",
              "      border: none;\n",
              "      border-radius: 50%;\n",
              "      cursor: pointer;\n",
              "      display: none;\n",
              "      fill: #1967D2;\n",
              "      height: 32px;\n",
              "      padding: 0 0 0 0;\n",
              "      width: 32px;\n",
              "    }\n",
              "\n",
              "    .colab-df-convert:hover {\n",
              "      background-color: #E2EBFA;\n",
              "      box-shadow: 0px 1px 2px rgba(60, 64, 67, 0.3), 0px 1px 3px 1px rgba(60, 64, 67, 0.15);\n",
              "      fill: #174EA6;\n",
              "    }\n",
              "\n",
              "    [theme=dark] .colab-df-convert {\n",
              "      background-color: #3B4455;\n",
              "      fill: #D2E3FC;\n",
              "    }\n",
              "\n",
              "    [theme=dark] .colab-df-convert:hover {\n",
              "      background-color: #434B5C;\n",
              "      box-shadow: 0px 1px 3px 1px rgba(0, 0, 0, 0.15);\n",
              "      filter: drop-shadow(0px 1px 2px rgba(0, 0, 0, 0.3));\n",
              "      fill: #FFFFFF;\n",
              "    }\n",
              "  </style>\n",
              "\n",
              "      <script>\n",
              "        const buttonEl =\n",
              "          document.querySelector('#df-0d942009-f311-4871-b833-b9e1690e0c08 button.colab-df-convert');\n",
              "        buttonEl.style.display =\n",
              "          google.colab.kernel.accessAllowed ? 'block' : 'none';\n",
              "\n",
              "        async function convertToInteractive(key) {\n",
              "          const element = document.querySelector('#df-0d942009-f311-4871-b833-b9e1690e0c08');\n",
              "          const dataTable =\n",
              "            await google.colab.kernel.invokeFunction('convertToInteractive',\n",
              "                                                     [key], {});\n",
              "          if (!dataTable) return;\n",
              "\n",
              "          const docLinkHtml = 'Like what you see? Visit the ' +\n",
              "            '<a target=\"_blank\" href=https://colab.research.google.com/notebooks/data_table.ipynb>data table notebook</a>'\n",
              "            + ' to learn more about interactive tables.';\n",
              "          element.innerHTML = '';\n",
              "          dataTable['output_type'] = 'display_data';\n",
              "          await google.colab.output.renderOutput(dataTable, element);\n",
              "          const docLink = document.createElement('div');\n",
              "          docLink.innerHTML = docLinkHtml;\n",
              "          element.appendChild(docLink);\n",
              "        }\n",
              "      </script>\n",
              "    </div>\n",
              "  </div>\n",
              "  "
            ]
          },
          "metadata": {},
          "execution_count": 123
        }
      ]
    },
    {
      "cell_type": "code",
      "source": [
        "train_data_sort = train_data.sort_values(['purchase_count', 'article_id'], ascending = [0,1]) \n",
        "train_data_sort['rank'] = train_data_sort['purchase_count'].rank(ascending=0, method='first') \n",
        "popularity_recommendations = train_data_sort.head(12) \n",
        "popularity_recommendations "
      ],
      "metadata": {
        "colab": {
          "base_uri": "https://localhost:8080/",
          "height": 426
        },
        "id": "JNtBiWTx9nha",
        "outputId": "865df741-b93c-4035-ee8f-7472b9ff92d8"
      },
      "id": "JNtBiWTx9nha",
      "execution_count": 124,
      "outputs": [
        {
          "output_type": "execute_result",
          "data": {
            "text/plain": [
              "                                              customer_id article_id  \\\n",
              "124928  b63c5a189689b32199e86cc4f56f9605fac682c309105d...  156231001   \n",
              "100414  92b38def6994e83c8f27544a355bb063168a0d6dc53507...  399223001   \n",
              "13748   139e15adb3037711686c19315086da44a9311b4538aa02...  228257001   \n",
              "120185  af98ad7845efdfc5dd9c2af6c0f2e1cc6d982ef8b14d69...  156231001   \n",
              "38632   37ccc4a1cb17734a6d427baed6063d636250ca665cd0f8...  228257001   \n",
              "92662   873fae8e3de7f0346508563e49a5381559cdf11569dac5...  706016001   \n",
              "164300  f1084d39bf4523973f99bcae64c413e7b12eec8005c464...  111593001   \n",
              "154569  e27f5f198445af34c4411f7451479b1f6b90c17edda6d9...  228257001   \n",
              "143211  d190fc2dc41e27e5f79f8b1f58bfcd7a13ab22857f39ca...  706016001   \n",
              "86614   7e515c061d0a3cea87ef6fcb7ad30193b365950f8b9176...  156231001   \n",
              "56037   517038efba162fb653467f9f6d0c777079a61380010b27...  156231001   \n",
              "68253   6311e165392704cc13807dabba48b1f5b55c8db1805bce...  399223001   \n",
              "\n",
              "        purchase_count  rank  \n",
              "124928              16   1.0  \n",
              "100414              16   2.0  \n",
              "13748               13   3.0  \n",
              "120185              12   4.0  \n",
              "38632               11   5.0  \n",
              "92662               11   6.0  \n",
              "164300              10   7.0  \n",
              "154569              10   8.0  \n",
              "143211              10   9.0  \n",
              "86614                9  10.0  \n",
              "56037                9  11.0  \n",
              "68253                9  12.0  "
            ],
            "text/html": [
              "\n",
              "  <div id=\"df-ce6a123d-5f2b-4f20-9dec-1ab02c70ac1d\">\n",
              "    <div class=\"colab-df-container\">\n",
              "      <div>\n",
              "<style scoped>\n",
              "    .dataframe tbody tr th:only-of-type {\n",
              "        vertical-align: middle;\n",
              "    }\n",
              "\n",
              "    .dataframe tbody tr th {\n",
              "        vertical-align: top;\n",
              "    }\n",
              "\n",
              "    .dataframe thead th {\n",
              "        text-align: right;\n",
              "    }\n",
              "</style>\n",
              "<table border=\"1\" class=\"dataframe\">\n",
              "  <thead>\n",
              "    <tr style=\"text-align: right;\">\n",
              "      <th></th>\n",
              "      <th>customer_id</th>\n",
              "      <th>article_id</th>\n",
              "      <th>purchase_count</th>\n",
              "      <th>rank</th>\n",
              "    </tr>\n",
              "  </thead>\n",
              "  <tbody>\n",
              "    <tr>\n",
              "      <th>124928</th>\n",
              "      <td>b63c5a189689b32199e86cc4f56f9605fac682c309105d...</td>\n",
              "      <td>156231001</td>\n",
              "      <td>16</td>\n",
              "      <td>1.0</td>\n",
              "    </tr>\n",
              "    <tr>\n",
              "      <th>100414</th>\n",
              "      <td>92b38def6994e83c8f27544a355bb063168a0d6dc53507...</td>\n",
              "      <td>399223001</td>\n",
              "      <td>16</td>\n",
              "      <td>2.0</td>\n",
              "    </tr>\n",
              "    <tr>\n",
              "      <th>13748</th>\n",
              "      <td>139e15adb3037711686c19315086da44a9311b4538aa02...</td>\n",
              "      <td>228257001</td>\n",
              "      <td>13</td>\n",
              "      <td>3.0</td>\n",
              "    </tr>\n",
              "    <tr>\n",
              "      <th>120185</th>\n",
              "      <td>af98ad7845efdfc5dd9c2af6c0f2e1cc6d982ef8b14d69...</td>\n",
              "      <td>156231001</td>\n",
              "      <td>12</td>\n",
              "      <td>4.0</td>\n",
              "    </tr>\n",
              "    <tr>\n",
              "      <th>38632</th>\n",
              "      <td>37ccc4a1cb17734a6d427baed6063d636250ca665cd0f8...</td>\n",
              "      <td>228257001</td>\n",
              "      <td>11</td>\n",
              "      <td>5.0</td>\n",
              "    </tr>\n",
              "    <tr>\n",
              "      <th>92662</th>\n",
              "      <td>873fae8e3de7f0346508563e49a5381559cdf11569dac5...</td>\n",
              "      <td>706016001</td>\n",
              "      <td>11</td>\n",
              "      <td>6.0</td>\n",
              "    </tr>\n",
              "    <tr>\n",
              "      <th>164300</th>\n",
              "      <td>f1084d39bf4523973f99bcae64c413e7b12eec8005c464...</td>\n",
              "      <td>111593001</td>\n",
              "      <td>10</td>\n",
              "      <td>7.0</td>\n",
              "    </tr>\n",
              "    <tr>\n",
              "      <th>154569</th>\n",
              "      <td>e27f5f198445af34c4411f7451479b1f6b90c17edda6d9...</td>\n",
              "      <td>228257001</td>\n",
              "      <td>10</td>\n",
              "      <td>8.0</td>\n",
              "    </tr>\n",
              "    <tr>\n",
              "      <th>143211</th>\n",
              "      <td>d190fc2dc41e27e5f79f8b1f58bfcd7a13ab22857f39ca...</td>\n",
              "      <td>706016001</td>\n",
              "      <td>10</td>\n",
              "      <td>9.0</td>\n",
              "    </tr>\n",
              "    <tr>\n",
              "      <th>86614</th>\n",
              "      <td>7e515c061d0a3cea87ef6fcb7ad30193b365950f8b9176...</td>\n",
              "      <td>156231001</td>\n",
              "      <td>9</td>\n",
              "      <td>10.0</td>\n",
              "    </tr>\n",
              "    <tr>\n",
              "      <th>56037</th>\n",
              "      <td>517038efba162fb653467f9f6d0c777079a61380010b27...</td>\n",
              "      <td>156231001</td>\n",
              "      <td>9</td>\n",
              "      <td>11.0</td>\n",
              "    </tr>\n",
              "    <tr>\n",
              "      <th>68253</th>\n",
              "      <td>6311e165392704cc13807dabba48b1f5b55c8db1805bce...</td>\n",
              "      <td>399223001</td>\n",
              "      <td>9</td>\n",
              "      <td>12.0</td>\n",
              "    </tr>\n",
              "  </tbody>\n",
              "</table>\n",
              "</div>\n",
              "      <button class=\"colab-df-convert\" onclick=\"convertToInteractive('df-ce6a123d-5f2b-4f20-9dec-1ab02c70ac1d')\"\n",
              "              title=\"Convert this dataframe to an interactive table.\"\n",
              "              style=\"display:none;\">\n",
              "        \n",
              "  <svg xmlns=\"http://www.w3.org/2000/svg\" height=\"24px\"viewBox=\"0 0 24 24\"\n",
              "       width=\"24px\">\n",
              "    <path d=\"M0 0h24v24H0V0z\" fill=\"none\"/>\n",
              "    <path d=\"M18.56 5.44l.94 2.06.94-2.06 2.06-.94-2.06-.94-.94-2.06-.94 2.06-2.06.94zm-11 1L8.5 8.5l.94-2.06 2.06-.94-2.06-.94L8.5 2.5l-.94 2.06-2.06.94zm10 10l.94 2.06.94-2.06 2.06-.94-2.06-.94-.94-2.06-.94 2.06-2.06.94z\"/><path d=\"M17.41 7.96l-1.37-1.37c-.4-.4-.92-.59-1.43-.59-.52 0-1.04.2-1.43.59L10.3 9.45l-7.72 7.72c-.78.78-.78 2.05 0 2.83L4 21.41c.39.39.9.59 1.41.59.51 0 1.02-.2 1.41-.59l7.78-7.78 2.81-2.81c.8-.78.8-2.07 0-2.86zM5.41 20L4 18.59l7.72-7.72 1.47 1.35L5.41 20z\"/>\n",
              "  </svg>\n",
              "      </button>\n",
              "      \n",
              "  <style>\n",
              "    .colab-df-container {\n",
              "      display:flex;\n",
              "      flex-wrap:wrap;\n",
              "      gap: 12px;\n",
              "    }\n",
              "\n",
              "    .colab-df-convert {\n",
              "      background-color: #E8F0FE;\n",
              "      border: none;\n",
              "      border-radius: 50%;\n",
              "      cursor: pointer;\n",
              "      display: none;\n",
              "      fill: #1967D2;\n",
              "      height: 32px;\n",
              "      padding: 0 0 0 0;\n",
              "      width: 32px;\n",
              "    }\n",
              "\n",
              "    .colab-df-convert:hover {\n",
              "      background-color: #E2EBFA;\n",
              "      box-shadow: 0px 1px 2px rgba(60, 64, 67, 0.3), 0px 1px 3px 1px rgba(60, 64, 67, 0.15);\n",
              "      fill: #174EA6;\n",
              "    }\n",
              "\n",
              "    [theme=dark] .colab-df-convert {\n",
              "      background-color: #3B4455;\n",
              "      fill: #D2E3FC;\n",
              "    }\n",
              "\n",
              "    [theme=dark] .colab-df-convert:hover {\n",
              "      background-color: #434B5C;\n",
              "      box-shadow: 0px 1px 3px 1px rgba(0, 0, 0, 0.15);\n",
              "      filter: drop-shadow(0px 1px 2px rgba(0, 0, 0, 0.3));\n",
              "      fill: #FFFFFF;\n",
              "    }\n",
              "  </style>\n",
              "\n",
              "      <script>\n",
              "        const buttonEl =\n",
              "          document.querySelector('#df-ce6a123d-5f2b-4f20-9dec-1ab02c70ac1d button.colab-df-convert');\n",
              "        buttonEl.style.display =\n",
              "          google.colab.kernel.accessAllowed ? 'block' : 'none';\n",
              "\n",
              "        async function convertToInteractive(key) {\n",
              "          const element = document.querySelector('#df-ce6a123d-5f2b-4f20-9dec-1ab02c70ac1d');\n",
              "          const dataTable =\n",
              "            await google.colab.kernel.invokeFunction('convertToInteractive',\n",
              "                                                     [key], {});\n",
              "          if (!dataTable) return;\n",
              "\n",
              "          const docLinkHtml = 'Like what you see? Visit the ' +\n",
              "            '<a target=\"_blank\" href=https://colab.research.google.com/notebooks/data_table.ipynb>data table notebook</a>'\n",
              "            + ' to learn more about interactive tables.';\n",
              "          element.innerHTML = '';\n",
              "          dataTable['output_type'] = 'display_data';\n",
              "          await google.colab.output.renderOutput(dataTable, element);\n",
              "          const docLink = document.createElement('div');\n",
              "          docLink.innerHTML = docLinkHtml;\n",
              "          element.appendChild(docLink);\n",
              "        }\n",
              "      </script>\n",
              "    </div>\n",
              "  </div>\n",
              "  "
            ]
          },
          "metadata": {},
          "execution_count": 124
        }
      ]
    },
    {
      "cell_type": "code",
      "source": [
        "def recommend(user_id):     \n",
        "    user_recommendations = popularity_recommendations \n",
        "    user_recommendations['userId'] = user_id \n",
        "    cols = user_recommendations.columns.tolist() \n",
        "    cols = cols[-1:] + cols[:-1] \n",
        "    user_recommendations = user_recommendations[cols] \n",
        "    return user_recommendations "
      ],
      "metadata": {
        "id": "C_YiC0W09pNy"
      },
      "id": "C_YiC0W09pNy",
      "execution_count": 125,
      "outputs": []
    },
    {
      "cell_type": "code",
      "source": [
        "random_users = [1,11,111]\n",
        "for i in random_users:\n",
        "    print(\"Recommendations for userId:\",(i),\" \\n \")\n",
        "    print(recommend(i))    \n",
        "    print(\"\\n\") "
      ],
      "metadata": {
        "colab": {
          "base_uri": "https://localhost:8080/"
        },
        "id": "la_sRr1t9q-y",
        "outputId": "4b456d53-8c41-426c-8381-bd84e1652b31"
      },
      "id": "la_sRr1t9q-y",
      "execution_count": 126,
      "outputs": [
        {
          "output_type": "stream",
          "name": "stdout",
          "text": [
            "Recommendations for userId: 1  \n",
            " \n",
            "        userId                                        customer_id article_id  \\\n",
            "124928       1  b63c5a189689b32199e86cc4f56f9605fac682c309105d...  156231001   \n",
            "100414       1  92b38def6994e83c8f27544a355bb063168a0d6dc53507...  399223001   \n",
            "13748        1  139e15adb3037711686c19315086da44a9311b4538aa02...  228257001   \n",
            "120185       1  af98ad7845efdfc5dd9c2af6c0f2e1cc6d982ef8b14d69...  156231001   \n",
            "38632        1  37ccc4a1cb17734a6d427baed6063d636250ca665cd0f8...  228257001   \n",
            "92662        1  873fae8e3de7f0346508563e49a5381559cdf11569dac5...  706016001   \n",
            "164300       1  f1084d39bf4523973f99bcae64c413e7b12eec8005c464...  111593001   \n",
            "154569       1  e27f5f198445af34c4411f7451479b1f6b90c17edda6d9...  228257001   \n",
            "143211       1  d190fc2dc41e27e5f79f8b1f58bfcd7a13ab22857f39ca...  706016001   \n",
            "86614        1  7e515c061d0a3cea87ef6fcb7ad30193b365950f8b9176...  156231001   \n",
            "56037        1  517038efba162fb653467f9f6d0c777079a61380010b27...  156231001   \n",
            "68253        1  6311e165392704cc13807dabba48b1f5b55c8db1805bce...  399223001   \n",
            "\n",
            "        purchase_count  rank  \n",
            "124928              16   1.0  \n",
            "100414              16   2.0  \n",
            "13748               13   3.0  \n",
            "120185              12   4.0  \n",
            "38632               11   5.0  \n",
            "92662               11   6.0  \n",
            "164300              10   7.0  \n",
            "154569              10   8.0  \n",
            "143211              10   9.0  \n",
            "86614                9  10.0  \n",
            "56037                9  11.0  \n",
            "68253                9  12.0  \n",
            "\n",
            "\n",
            "Recommendations for userId: 11  \n",
            " \n",
            "        userId                                        customer_id article_id  \\\n",
            "124928      11  b63c5a189689b32199e86cc4f56f9605fac682c309105d...  156231001   \n",
            "100414      11  92b38def6994e83c8f27544a355bb063168a0d6dc53507...  399223001   \n",
            "13748       11  139e15adb3037711686c19315086da44a9311b4538aa02...  228257001   \n",
            "120185      11  af98ad7845efdfc5dd9c2af6c0f2e1cc6d982ef8b14d69...  156231001   \n",
            "38632       11  37ccc4a1cb17734a6d427baed6063d636250ca665cd0f8...  228257001   \n",
            "92662       11  873fae8e3de7f0346508563e49a5381559cdf11569dac5...  706016001   \n",
            "164300      11  f1084d39bf4523973f99bcae64c413e7b12eec8005c464...  111593001   \n",
            "154569      11  e27f5f198445af34c4411f7451479b1f6b90c17edda6d9...  228257001   \n",
            "143211      11  d190fc2dc41e27e5f79f8b1f58bfcd7a13ab22857f39ca...  706016001   \n",
            "86614       11  7e515c061d0a3cea87ef6fcb7ad30193b365950f8b9176...  156231001   \n",
            "56037       11  517038efba162fb653467f9f6d0c777079a61380010b27...  156231001   \n",
            "68253       11  6311e165392704cc13807dabba48b1f5b55c8db1805bce...  399223001   \n",
            "\n",
            "        purchase_count  rank  \n",
            "124928              16   1.0  \n",
            "100414              16   2.0  \n",
            "13748               13   3.0  \n",
            "120185              12   4.0  \n",
            "38632               11   5.0  \n",
            "92662               11   6.0  \n",
            "164300              10   7.0  \n",
            "154569              10   8.0  \n",
            "143211              10   9.0  \n",
            "86614                9  10.0  \n",
            "56037                9  11.0  \n",
            "68253                9  12.0  \n",
            "\n",
            "\n",
            "Recommendations for userId: 111  \n",
            " \n",
            "        userId                                        customer_id article_id  \\\n",
            "124928     111  b63c5a189689b32199e86cc4f56f9605fac682c309105d...  156231001   \n",
            "100414     111  92b38def6994e83c8f27544a355bb063168a0d6dc53507...  399223001   \n",
            "13748      111  139e15adb3037711686c19315086da44a9311b4538aa02...  228257001   \n",
            "120185     111  af98ad7845efdfc5dd9c2af6c0f2e1cc6d982ef8b14d69...  156231001   \n",
            "38632      111  37ccc4a1cb17734a6d427baed6063d636250ca665cd0f8...  228257001   \n",
            "92662      111  873fae8e3de7f0346508563e49a5381559cdf11569dac5...  706016001   \n",
            "164300     111  f1084d39bf4523973f99bcae64c413e7b12eec8005c464...  111593001   \n",
            "154569     111  e27f5f198445af34c4411f7451479b1f6b90c17edda6d9...  228257001   \n",
            "143211     111  d190fc2dc41e27e5f79f8b1f58bfcd7a13ab22857f39ca...  706016001   \n",
            "86614      111  7e515c061d0a3cea87ef6fcb7ad30193b365950f8b9176...  156231001   \n",
            "56037      111  517038efba162fb653467f9f6d0c777079a61380010b27...  156231001   \n",
            "68253      111  6311e165392704cc13807dabba48b1f5b55c8db1805bce...  399223001   \n",
            "\n",
            "        purchase_count  rank  \n",
            "124928              16   1.0  \n",
            "100414              16   2.0  \n",
            "13748               13   3.0  \n",
            "120185              12   4.0  \n",
            "38632               11   5.0  \n",
            "92662               11   6.0  \n",
            "164300              10   7.0  \n",
            "154569              10   8.0  \n",
            "143211              10   9.0  \n",
            "86614                9  10.0  \n",
            "56037                9  11.0  \n",
            "68253                9  12.0  \n",
            "\n",
            "\n"
          ]
        },
        {
          "output_type": "stream",
          "name": "stderr",
          "text": [
            "<ipython-input-125-ac17887f0caf>:3: SettingWithCopyWarning: \n",
            "A value is trying to be set on a copy of a slice from a DataFrame.\n",
            "Try using .loc[row_indexer,col_indexer] = value instead\n",
            "\n",
            "See the caveats in the documentation: https://pandas.pydata.org/pandas-docs/stable/user_guide/indexing.html#returning-a-view-versus-a-copy\n",
            "  user_recommendations['userId'] = user_id\n",
            "<ipython-input-125-ac17887f0caf>:3: SettingWithCopyWarning: \n",
            "A value is trying to be set on a copy of a slice from a DataFrame.\n",
            "Try using .loc[row_indexer,col_indexer] = value instead\n",
            "\n",
            "See the caveats in the documentation: https://pandas.pydata.org/pandas-docs/stable/user_guide/indexing.html#returning-a-view-versus-a-copy\n",
            "  user_recommendations['userId'] = user_id\n",
            "<ipython-input-125-ac17887f0caf>:3: SettingWithCopyWarning: \n",
            "A value is trying to be set on a copy of a slice from a DataFrame.\n",
            "Try using .loc[row_indexer,col_indexer] = value instead\n",
            "\n",
            "See the caveats in the documentation: https://pandas.pydata.org/pandas-docs/stable/user_guide/indexing.html#returning-a-view-versus-a-copy\n",
            "  user_recommendations['userId'] = user_id\n"
          ]
        }
      ]
    },
    {
      "cell_type": "code",
      "source": [
        "user_id = 'customer_id'\n",
        "item_id = 'article_id'\n",
        "users_to_recommend = list(train[\"customer_id\"].unique())"
      ],
      "metadata": {
        "id": "3EKI31M-9uW2"
      },
      "id": "3EKI31M-9uW2",
      "execution_count": 127,
      "outputs": []
    },
    {
      "cell_type": "code",
      "source": [
        "def train_model(train_data, name, user_id, item_id, target, users_to_recommend):\n",
        "    if name == 'popularity':\n",
        "        model = tc.popularity_recommender.create(train_data, \n",
        "                                                 user_id=user_id, \n",
        "                                                 item_id=item_id, \n",
        "                                                 target=target, verbose=False)\n",
        "    elif name == 'cosine':\n",
        "        model = tc.item_similarity_recommender.create(train_data, \n",
        "                                                      user_id=user_id, \n",
        "                                                      item_id=item_id, \n",
        "                                                      target=target,\n",
        "                                                      similarity_type='cosine', verbose=False)\n",
        "    elif name == 'pearson':\n",
        "            model = tc.item_similarity_recommender.create(train_data, \n",
        "                                                          user_id=user_id, \n",
        "                                                          item_id=item_id, \n",
        "                                                          target=target, \n",
        "                                                          similarity_type='pearson', verbose=False)\n",
        "    recom = model.recommend(users=users_to_recommend, k=12, verbose=False)\n",
        "    return model, recom"
      ],
      "metadata": {
        "id": "tJQig8lD93qi"
      },
      "id": "tJQig8lD93qi",
      "execution_count": 128,
      "outputs": []
    },
    {
      "cell_type": "code",
      "source": [
        "\n",
        "name = 'popularity'\n",
        "target = 'purchase_count'\n",
        "popularity_count, _ = train_model(tc.SFrame(train_data), name, user_id, item_id, target, users_to_recommend)"
      ],
      "metadata": {
        "id": "hWJWkufZ-C7a"
      },
      "id": "hWJWkufZ-C7a",
      "execution_count": 129,
      "outputs": []
    },
    {
      "cell_type": "code",
      "source": [
        "name = 'popularity'\n",
        "target = 'purchase_dummy'\n",
        "popularity_dummy, _ = train_model(tc.SFrame(train_data_dummy), name, user_id, item_id, target, users_to_recommend)"
      ],
      "metadata": {
        "id": "YZGHDYf--HeK"
      },
      "id": "YZGHDYf--HeK",
      "execution_count": 130,
      "outputs": []
    },
    {
      "cell_type": "code",
      "source": [
        "name = 'popularity'\n",
        "target = 'scaled_purchase_freq'\n",
        "popularity_normalize, _ = train_model(tc.SFrame(normalize_data(train_data)), name, user_id, item_id, target, users_to_recommend)"
      ],
      "metadata": {
        "id": "qDKot7IQXQQY"
      },
      "id": "qDKot7IQXQQY",
      "execution_count": 131,
      "outputs": []
    },
    {
      "cell_type": "code",
      "source": [
        "name = 'cosine'\n",
        "target = 'purchase_count'\n",
        "cosine_count, _ = train_model(tc.SFrame(train_data), name, user_id, item_id, target, users_to_recommend)"
      ],
      "metadata": {
        "id": "xGySRRvs-kVy"
      },
      "id": "xGySRRvs-kVy",
      "execution_count": 132,
      "outputs": []
    },
    {
      "cell_type": "code",
      "source": [
        "name = 'cosine'\n",
        "target = 'purchase_dummy'\n",
        "cosine_dummy, _ = train_model(tc.SFrame(train_data_dummy), name, user_id, item_id, target, users_to_recommend)"
      ],
      "metadata": {
        "id": "w3xIY2U6-srO"
      },
      "id": "w3xIY2U6-srO",
      "execution_count": 133,
      "outputs": []
    },
    {
      "cell_type": "code",
      "source": [
        "name = 'cosine'\n",
        "target = 'scaled_purchase_freq'\n",
        "cosine_normalize, _ = train_model(tc.SFrame(normalize_data(train_data)), name, user_id, item_id, target, users_to_recommend)"
      ],
      "metadata": {
        "id": "yMPzKOcmXo8q"
      },
      "id": "yMPzKOcmXo8q",
      "execution_count": 134,
      "outputs": []
    },
    {
      "cell_type": "code",
      "source": [
        "name = 'pearson'\n",
        "target = 'purchase_count'\n",
        "\n",
        "pearson_count, _ = train_model(tc.SFrame(train_data), name, user_id, item_id, target, users_to_recommend)"
      ],
      "metadata": {
        "id": "W81TrKSM-wqP"
      },
      "id": "W81TrKSM-wqP",
      "execution_count": 135,
      "outputs": []
    },
    {
      "cell_type": "code",
      "source": [
        "name = 'pearson'\n",
        "target = 'purchase_dummy'\n",
        "\n",
        "pearson_dummy, _ = train_model(tc.SFrame(train_data_dummy), name, user_id, item_id, target, users_to_recommend)"
      ],
      "metadata": {
        "id": "paNlFK9D-7zG"
      },
      "id": "paNlFK9D-7zG",
      "execution_count": 136,
      "outputs": []
    },
    {
      "cell_type": "code",
      "source": [
        "name = 'pearson'\n",
        "target = 'scaled_purchase_freq'\n",
        "pearson_normalize, _ = train_model(tc.SFrame(normalize_data(train_data)), name, user_id, item_id, target, users_to_recommend)"
      ],
      "metadata": {
        "id": "w9_VmIzCX3Rw"
      },
      "id": "w9_VmIzCX3Rw",
      "execution_count": 137,
      "outputs": []
    },
    {
      "cell_type": "code",
      "source": [
        "model_counts = [popularity_count, cosine_count, pearson_count]\n",
        "models_dummy = [popularity_dummy, cosine_dummy, pearson_dummy]\n",
        "models_normalize= [popularity_normalize, cosine_normalize, pearson_normalize]\n",
        "names_counts = ['Popularity Model on Purchase Counts', 'Cosine Similarity on Purchase Counts',\n",
        "                'Pearson Similarity on Purchase Counts']\n",
        "names_dummy = ['Popularity Model on Purchase Dummy', 'Cosine Similarity on Purchase Dummy',\n",
        "               'Pearson Similarity on Purchase Dummy']\n",
        "names_normalize= ['Popularity Model on Normalized Data', 'Cosine Similarity on Normalized Data',\n",
        "               'Pearson Similarity on Normalized Data']"
      ],
      "metadata": {
        "id": "JDmK60_u_AzS"
      },
      "id": "JDmK60_u_AzS",
      "execution_count": 138,
      "outputs": []
    },
    {
      "cell_type": "code",
      "source": [
        "# # Evaluate the models\n",
        "eval_counts = tc.recommender.util.compare_models(tc.SFrame(test_data), model_counts, model_names=names_counts, verbose=False)\n",
        "eval_dummy = tc.recommender.util.compare_models(tc.SFrame(test_data_dummy), models_dummy, model_names=names_dummy, verbose=False)\n",
        "eval_normalize=tc.recommender.util.compare_models(tc.SFrame(test_data_norm), models_normalize, model_names=names_dummy, verbose=False)"
      ],
      "metadata": {
        "id": "9RudUcxa_McH"
      },
      "id": "9RudUcxa_McH",
      "execution_count": 139,
      "outputs": []
    },
    {
      "cell_type": "code",
      "source": [
        "#eval_counts"
      ],
      "metadata": {
        "id": "oT5_ytWHiTaF"
      },
      "id": "oT5_ytWHiTaF",
      "execution_count": 140,
      "outputs": []
    },
    {
      "cell_type": "code",
      "source": [
        "#eval_counts\n",
        "\n",
        "f = open(\"/content/eval_counts.txt\", \"a\")\n",
        "print(eval_counts, file=f)\n",
        "f.close()\n",
        "f = open(\"/content/eval_dummy.txt\", \"a\")\n",
        "print(eval_dummy, file=f)\n",
        "f.close()\n",
        "f = open(\"/content/eval_normalize.txt\", \"a\")\n",
        "print(eval_dummy, file=f)\n",
        "f.close()"
      ],
      "metadata": {
        "id": "DDXarb6x_j96"
      },
      "id": "DDXarb6x_j96",
      "execution_count": 141,
      "outputs": []
    },
    {
      "cell_type": "code",
      "source": [
        "METHOD = \"cosine\"\n",
        "TARGET = \"purchase_count\""
      ],
      "metadata": {
        "id": "QFsLnGxtBUKO"
      },
      "id": "QFsLnGxtBUKO",
      "execution_count": 142,
      "outputs": []
    },
    {
      "cell_type": "code",
      "source": [
        "final_model = tc.item_similarity_recommender.create(tc.SFrame(train_data), \n",
        "                                                    user_id=user_id, \n",
        "                                                    item_id=item_id, \n",
        "                                                    target=TARGET,\n",
        "                                                    similarity_type=METHOD,\n",
        "                                                    verbose=False)\n",
        "\n",
        "recom = final_model.recommend(users=users_to_recommend, k=12, verbose=False).to_dataframe()\n"
      ],
      "metadata": {
        "id": "HpE4aSxA_sl_"
      },
      "id": "HpE4aSxA_sl_",
      "execution_count": 143,
      "outputs": []
    },
    {
      "cell_type": "code",
      "source": [
        "recom.customer_id[0]"
      ],
      "metadata": {
        "colab": {
          "base_uri": "https://localhost:8080/",
          "height": 35
        },
        "id": "BYOBQwn8cnYj",
        "outputId": "8f26824e-04db-40c1-9077-e3c3d112bfe3"
      },
      "id": "BYOBQwn8cnYj",
      "execution_count": 169,
      "outputs": [
        {
          "output_type": "execute_result",
          "data": {
            "text/plain": [
              "'0001076e215991bad544dd3e7312f78d9f576a1cc3ddc407b2bc9024794ead5f'"
            ],
            "application/vnd.google.colaboratory.intrinsic+json": {
              "type": "string"
            }
          },
          "metadata": {},
          "execution_count": 169
        }
      ]
    },
    {
      "cell_type": "code",
      "source": [
        "eval_cust_id=str(recom.customer_id[12])"
      ],
      "metadata": {
        "id": "jIcjNiqDBa8n"
      },
      "id": "jIcjNiqDBa8n",
      "execution_count": 269,
      "outputs": []
    },
    {
      "cell_type": "code",
      "source": [
        "eval_cust_id"
      ],
      "metadata": {
        "colab": {
          "base_uri": "https://localhost:8080/",
          "height": 35
        },
        "id": "-jjPEbQTceG_",
        "outputId": "455b4377-c079-43e8-b1ee-81d7b014f36f"
      },
      "id": "-jjPEbQTceG_",
      "execution_count": 270,
      "outputs": [
        {
          "output_type": "execute_result",
          "data": {
            "text/plain": [
              "'0001f8cef6b9702d54abf66fd89eb21014bf98567065a9b5e42f37bc99528cf5'"
            ],
            "application/vnd.google.colaboratory.intrinsic+json": {
              "type": "string"
            }
          },
          "metadata": {},
          "execution_count": 270
        }
      ]
    },
    {
      "cell_type": "code",
      "source": [
        "eval_art_id=transaction_subset_df[transaction_subset_df.customer_id==eval_cust_id].article_id.value_counts().head(8)"
      ],
      "metadata": {
        "id": "Xwp8XCINBfn_"
      },
      "id": "Xwp8XCINBfn_",
      "execution_count": 271,
      "outputs": []
    },
    {
      "cell_type": "code",
      "source": [
        "eval_art_id"
      ],
      "metadata": {
        "colab": {
          "base_uri": "https://localhost:8080/"
        },
        "id": "TwPPXk_2cjNg",
        "outputId": "e1a65947-70f0-4984-e4e8-71eed9278c22"
      },
      "id": "TwPPXk_2cjNg",
      "execution_count": 272,
      "outputs": [
        {
          "output_type": "execute_result",
          "data": {
            "text/plain": [
              "666006006    3\n",
              "502224001    1\n",
              "706268020    1\n",
              "817472002    1\n",
              "806529003    1\n",
              "808841001    1\n",
              "836130002    1\n",
              "855834001    1\n",
              "Name: article_id, dtype: int64"
            ]
          },
          "metadata": {},
          "execution_count": 272
        }
      ]
    },
    {
      "cell_type": "code",
      "source": [
        "cust_unique=list(customers_df.customer_id.unique())"
      ],
      "metadata": {
        "id": "49ugIyCyj6Ns"
      },
      "id": "49ugIyCyj6Ns",
      "execution_count": 273,
      "outputs": []
    },
    {
      "cell_type": "code",
      "source": [
        "recom.to_csv('recommendations.csv')"
      ],
      "metadata": {
        "id": "OJrbic1HkhLl"
      },
      "id": "OJrbic1HkhLl",
      "execution_count": 203,
      "outputs": []
    },
    {
      "cell_type": "code",
      "source": [
        "recom['article_id'].head(12)"
      ],
      "metadata": {
        "colab": {
          "base_uri": "https://localhost:8080/"
        },
        "id": "CtAOxkuWk8VM",
        "outputId": "ee7b64e9-c87a-4cf8-c948-7934e3979c6e"
      },
      "id": "CtAOxkuWk8VM",
      "execution_count": 274,
      "outputs": [
        {
          "output_type": "execute_result",
          "data": {
            "text/plain": [
              "0     715624010\n",
              "1     547780001\n",
              "2     733749001\n",
              "3     448509014\n",
              "4     759871002\n",
              "5     554450004\n",
              "6     720125001\n",
              "7     706016015\n",
              "8     711053003\n",
              "9     685814003\n",
              "10    772902001\n",
              "11    372860001\n",
              "Name: article_id, dtype: object"
            ]
          },
          "metadata": {},
          "execution_count": 274
        }
      ]
    },
    {
      "cell_type": "code",
      "source": [
        "art_id_ls=list(eval_art_id.index)\n",
        "pred_art_ids=list(recom['article_id'].head(12))"
      ],
      "metadata": {
        "id": "4OUiAAPGpTQC"
      },
      "id": "4OUiAAPGpTQC",
      "execution_count": 275,
      "outputs": []
    },
    {
      "cell_type": "code",
      "source": [
        "art_id_ls"
      ],
      "metadata": {
        "colab": {
          "base_uri": "https://localhost:8080/"
        },
        "id": "d_kN8IoTtCjO",
        "outputId": "9a5f31b8-4111-44ee-916f-49cb0755c6fd"
      },
      "id": "d_kN8IoTtCjO",
      "execution_count": 276,
      "outputs": [
        {
          "output_type": "execute_result",
          "data": {
            "text/plain": [
              "[666006006,\n",
              " 502224001,\n",
              " 706268020,\n",
              " 817472002,\n",
              " 806529003,\n",
              " 808841001,\n",
              " 836130002,\n",
              " 855834001]"
            ]
          },
          "metadata": {},
          "execution_count": 276
        }
      ]
    },
    {
      "cell_type": "code",
      "source": [
        "len(art_id_ls)"
      ],
      "metadata": {
        "colab": {
          "base_uri": "https://localhost:8080/"
        },
        "id": "oKGsfWIWdOHs",
        "outputId": "bf53d99f-10bb-4146-9e63-be0865d779e6"
      },
      "id": "oKGsfWIWdOHs",
      "execution_count": 277,
      "outputs": [
        {
          "output_type": "execute_result",
          "data": {
            "text/plain": [
              "8"
            ]
          },
          "metadata": {},
          "execution_count": 277
        }
      ]
    },
    {
      "cell_type": "code",
      "source": [
        "article_subset_df=article_subset_df.reset_index(drop=True)"
      ],
      "metadata": {
        "id": "SNPu-DFW2Qz3"
      },
      "id": "SNPu-DFW2Qz3",
      "execution_count": 278,
      "outputs": []
    },
    {
      "cell_type": "code",
      "source": [
        "article_subset_df.shape"
      ],
      "metadata": {
        "colab": {
          "base_uri": "https://localhost:8080/"
        },
        "id": "sy1VfMG_0Mvg",
        "outputId": "5233ca49-d0e8-4150-b7b4-c4f6b8a950b2"
      },
      "id": "sy1VfMG_0Mvg",
      "execution_count": 279,
      "outputs": [
        {
          "output_type": "execute_result",
          "data": {
            "text/plain": [
              "(86307, 26)"
            ]
          },
          "metadata": {},
          "execution_count": 279
        }
      ]
    },
    {
      "cell_type": "code",
      "source": [
        "type(article_subset_df.article_id[0])"
      ],
      "metadata": {
        "colab": {
          "base_uri": "https://localhost:8080/"
        },
        "id": "ik82by1YduOT",
        "outputId": "0b4a2556-7962-4dbc-9292-5beb85d7844f"
      },
      "id": "ik82by1YduOT",
      "execution_count": 280,
      "outputs": [
        {
          "output_type": "execute_result",
          "data": {
            "text/plain": [
              "numpy.int64"
            ]
          },
          "metadata": {},
          "execution_count": 280
        }
      ]
    },
    {
      "cell_type": "code",
      "source": [
        "def mapk(eval_ids,ref_ids):\n",
        "  mapk_ls=[]\n",
        "  #print(type(eval_ids),type(ref_ids))\n",
        "  for eval_id in eval_ids:\n",
        "    eval_id=int(eval_id)\n",
        "    mapk=0\n",
        "    for ref_id in ref_ids:\n",
        "      cnt=0\n",
        "      #print(article_subset_df.product_type_name[article_subset_df.article_id==eval_id],article_subset_df.product_type_name[article_subset_df.article_id==ref_id])\n",
        "        \n",
        "      if(article_subset_df.product_type_name[article_subset_df.article_id==eval_id].reset_index(drop=True).iloc[0] == article_subset_df.product_type_name[article_subset_df.article_id==ref_id].reset_index(drop=True).iloc[0]):\n",
        "        #print(article_subset_df.product_type_name[article_subset_df.article_id==eval_id],article_subset_df.product_type_name[article_subset_df.article_id==ref_id])\n",
        "        cnt=cnt+1\n",
        "        mapk=1*1/cnt+mapk\n",
        "      if(article_subset_df.garment_group_name[article_subset_df.article_id==eval_id].reset_index(drop=True).iloc[0] == article_subset_df.garment_group_name[article_subset_df.article_id==ref_id].reset_index(drop=True).iloc[0]):\n",
        "        cnt=cnt+1\n",
        "        #print(article_subset_df.garment_group_name[article_subset_df.article_id==eval_id],article_subset_df.garment_group_name[article_subset_df.article_id==ref_id])\n",
        "        mapk=1*1/cnt+mapk\n",
        "      if(article_subset_df.index_group_name[article_subset_df.article_id==eval_id].reset_index(drop=True).iloc[0] ==  article_subset_df.index_group_name[article_subset_df.article_id==ref_id].reset_index(drop=True).iloc[0]):\n",
        "        cnt=cnt+1\n",
        "        #print(article_subset_df.index_group_name[article_subset_df.article_id==eval_id],article_subset_df.index_group_name[article_subset_df.article_id==ref_id])\n",
        "        \n",
        "        mapk=1*1/cnt+mapk\n",
        "      if(article_subset_df.department_name[article_subset_df.article_id==eval_id].reset_index(drop=True).iloc[0] == article_subset_df.department_name[article_subset_df.article_id==ref_id].reset_index(drop=True).iloc[0]):\n",
        "        cnt=cnt+1\n",
        "        #print(article_subset_df.department_name[article_subset_df.article_id==eval_id],article_subset_df.department_name[article_subset_df.article_id==ref_id])\n",
        "        \n",
        "        mapk=1*1/cnt+mapk\n",
        "      if(article_subset_df.colour_group_name[article_subset_df.article_id==eval_id].reset_index(drop=True).iloc[0] == article_subset_df.colour_group_name[article_subset_df.article_id==ref_id].reset_index(drop=True).iloc[0]):\n",
        "        cnt=cnt+1\n",
        "        #print(article_subset_df.colour_group_name[article_subset_df.article_id==eval_id],article_subset_df.colour_group_name[article_subset_df.article_id==ref_id])\n",
        "        \n",
        "        mapk=1*1/cnt+mapk\n",
        "      if(article_subset_df.graphical_appearance_name[article_subset_df.article_id==eval_id].reset_index(drop=True).iloc[0]== article_subset_df.graphical_appearance_name[article_subset_df.article_id==ref_id].reset_index(drop=True).iloc[0]):\n",
        "        cnt=cnt+1\n",
        "        #print(article_subset_df.graphical_appearance_name[article_subset_df.article_id==eval_id],article_subset_df.graphical_appearance_name[article_subset_df.article_id==ref_id])\n",
        "        \n",
        "        mapk=1*1/cnt+mapk\n",
        "      if(article_subset_df.product_group_name[article_subset_df.article_id==eval_id].reset_index(drop=True).iloc[0]== article_subset_df.product_group_name[article_subset_df.article_id==ref_id].reset_index(drop=True).iloc[0]):\n",
        "        cnt=cnt+1\n",
        "        #print(article_subset_df.product_group_name[article_subset_df.article_id==eval_id],article_subset_df.product_group_name[article_subset_df.article_id==ref_id])\n",
        "        \n",
        "        mapk=1*1/cnt+mapk\n",
        "    mapk_ls.append(mapk/12)\n",
        "    #break\n",
        "  return mapk_ls\n"
      ],
      "metadata": {
        "id": "q4AOw5lSu--U"
      },
      "id": "q4AOw5lSu--U",
      "execution_count": 302,
      "outputs": []
    },
    {
      "cell_type": "code",
      "source": [
        "#article_subset_df.columns"
      ],
      "metadata": {
        "id": "NFjbrqP9vNTY"
      },
      "id": "NFjbrqP9vNTY",
      "execution_count": 303,
      "outputs": []
    },
    {
      "cell_type": "code",
      "source": [
        "article_subset_df.section_name[article_subset_df.article_id=='708755001']"
      ],
      "metadata": {
        "colab": {
          "base_uri": "https://localhost:8080/"
        },
        "id": "cL1-_03lvPEH",
        "outputId": "e69cf31d-1716-4898-fcd0-b3fd699bafa8"
      },
      "id": "cL1-_03lvPEH",
      "execution_count": 304,
      "outputs": [
        {
          "output_type": "execute_result",
          "data": {
            "text/plain": [
              "Series([], Name: section_name, dtype: object)"
            ]
          },
          "metadata": {},
          "execution_count": 304
        }
      ]
    },
    {
      "cell_type": "code",
      "source": [
        "np.round(np.mean(mapk(pred_art_ids,art_id_ls)),3)\n",
        "# Recommendations score of MAP@12 vary between 72 to 93, on an averafe it is on the 0.895 mark."
      ],
      "metadata": {
        "colab": {
          "base_uri": "https://localhost:8080/"
        },
        "id": "fQAzTUL5vX-I",
        "outputId": "dc20563f-97e3-4ebf-ca39-e0a932f5c448"
      },
      "id": "fQAzTUL5vX-I",
      "execution_count": 305,
      "outputs": [
        {
          "output_type": "execute_result",
          "data": {
            "text/plain": [
              "0.722"
            ]
          },
          "metadata": {},
          "execution_count": 305
        }
      ]
    },
    {
      "cell_type": "code",
      "source": [
        "type(pred_art_ids[0]),type(art_id_ls[0])"
      ],
      "metadata": {
        "colab": {
          "base_uri": "https://localhost:8080/"
        },
        "id": "Vd-wL4D7yhVc",
        "outputId": "2dfce2e0-bf2f-4192-dd9b-d05efb138856"
      },
      "id": "Vd-wL4D7yhVc",
      "execution_count": 215,
      "outputs": [
        {
          "output_type": "execute_result",
          "data": {
            "text/plain": [
              "(str, int)"
            ]
          },
          "metadata": {},
          "execution_count": 215
        }
      ]
    },
    {
      "cell_type": "code",
      "source": [
        "pred_art_ids"
      ],
      "metadata": {
        "colab": {
          "base_uri": "https://localhost:8080/"
        },
        "id": "mKgXt9GNyxIU",
        "outputId": "4732a370-bfed-4808-f4a8-bd40a249d8a8"
      },
      "id": "mKgXt9GNyxIU",
      "execution_count": 306,
      "outputs": [
        {
          "output_type": "execute_result",
          "data": {
            "text/plain": [
              "['715624010',\n",
              " '547780001',\n",
              " '733749001',\n",
              " '448509014',\n",
              " '759871002',\n",
              " '554450004',\n",
              " '720125001',\n",
              " '706016015',\n",
              " '711053003',\n",
              " '685814003',\n",
              " '772902001',\n",
              " '372860001']"
            ]
          },
          "metadata": {},
          "execution_count": 306
        }
      ]
    },
    {
      "cell_type": "code",
      "source": [
        "art_id_ls"
      ],
      "metadata": {
        "colab": {
          "base_uri": "https://localhost:8080/"
        },
        "id": "WSnTL1Dgy2bb",
        "outputId": "3ae0f988-6498-41ba-cee5-21ede3dc347d"
      },
      "id": "WSnTL1Dgy2bb",
      "execution_count": 307,
      "outputs": [
        {
          "output_type": "execute_result",
          "data": {
            "text/plain": [
              "[666006006,\n",
              " 502224001,\n",
              " 706268020,\n",
              " 817472002,\n",
              " 806529003,\n",
              " 808841001,\n",
              " 836130002,\n",
              " 855834001]"
            ]
          },
          "metadata": {},
          "execution_count": 307
        }
      ]
    },
    {
      "cell_type": "code",
      "source": [
        "#print(article_subset_df.product_type_name[article_subset_df.article_id==708755001],article_subset_df.product_type_name[article_subset_df.article_id==706016001])\n",
        "      "
      ],
      "metadata": {
        "id": "tOYYa-shzV9h"
      },
      "id": "tOYYa-shzV9h",
      "execution_count": 308,
      "outputs": []
    },
    {
      "cell_type": "code",
      "source": [
        "# article_subset_df.product_type_name[article_subset_df.article_id==708755001]"
      ],
      "metadata": {
        "id": "Om2iZVy01-kK"
      },
      "id": "Om2iZVy01-kK",
      "execution_count": 309,
      "outputs": []
    },
    {
      "cell_type": "code",
      "source": [
        "# print(article_subset_df.product_type_name[article_subset_df.article_id==708755001].reset_index(drop=True).iloc[0])\n",
        "# print(article_subset_df.product_type_name[article_subset_df.article_id==706016001].reset_index(drop=True).iloc[0])"
      ],
      "metadata": {
        "id": "tdxu0SOA2DZM"
      },
      "id": "tdxu0SOA2DZM",
      "execution_count": 310,
      "outputs": []
    },
    {
      "cell_type": "code",
      "source": [
        "#val1=article_subset_df.product_type_name[article_subset_df.article_id==708755001]"
      ],
      "metadata": {
        "id": "cz_nJqxn2Etu"
      },
      "id": "cz_nJqxn2Etu",
      "execution_count": 311,
      "outputs": []
    },
    {
      "cell_type": "code",
      "source": [
        "#val1.iloc[0]"
      ],
      "metadata": {
        "id": "bjxURb4X3kef"
      },
      "id": "bjxURb4X3kef",
      "execution_count": 312,
      "outputs": []
    },
    {
      "cell_type": "code",
      "source": [],
      "metadata": {
        "id": "002soNvq3dcC"
      },
      "id": "002soNvq3dcC",
      "execution_count": null,
      "outputs": []
    }
  ],
  "metadata": {
    "kernelspec": {
      "display_name": "Python 3 (ipykernel)",
      "language": "python",
      "name": "python3"
    },
    "language_info": {
      "codemirror_mode": {
        "name": "ipython",
        "version": 3
      },
      "file_extension": ".py",
      "mimetype": "text/x-python",
      "name": "python",
      "nbconvert_exporter": "python",
      "pygments_lexer": "ipython3",
      "version": "3.9.12"
    },
    "colab": {
      "provenance": []
    }
  },
  "nbformat": 4,
  "nbformat_minor": 5
}